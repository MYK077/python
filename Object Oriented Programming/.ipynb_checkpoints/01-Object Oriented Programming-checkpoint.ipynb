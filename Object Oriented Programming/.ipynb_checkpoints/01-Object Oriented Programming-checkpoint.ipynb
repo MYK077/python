{
 "cells": [
  {
   "cell_type": "code",
   "execution_count": 8,
   "metadata": {},
   "outputs": [
    {
     "data": {
      "text/plain": [
       "1"
      ]
     },
     "execution_count": 8,
     "metadata": {},
     "output_type": "execute_result"
    }
   ],
   "source": [
    "# Lets start the lesson by remembering about the Basic Python Objects. For example:\n",
    "lst = [1,2,2,3]\n",
    "# Remember how we could call methods on a list?\n",
    "lst.count(3)"
   ]
  },
  {
   "cell_type": "code",
   "execution_count": 9,
   "metadata": {},
   "outputs": [
    {
     "name": "stdout",
     "output_type": "stream",
     "text": [
      "<class 'int'>\n",
      "<class 'list'>\n",
      "<class 'tuple'>\n",
      "<class 'dict'>\n"
     ]
    }
   ],
   "source": [
    "# Objects\n",
    "# In Python, everything is an object. \n",
    "# Remember from previous lectures we can use type() to check the type of object something is:\n",
    "print(type(1))\n",
    "print(type([]))\n",
    "print(type(()))\n",
    "print(type({}))"
   ]
  },
  {
   "cell_type": "code",
   "execution_count": 14,
   "metadata": {},
   "outputs": [
    {
     "name": "stdout",
     "output_type": "stream",
     "text": [
      "<class '__main__.Sample'>\n"
     ]
    }
   ],
   "source": [
    "# class\n",
    "# User defined objects are created using the class keyword. \n",
    "# The class is a blueprint that defines the nature of a future object.\n",
    "# From classes we can construct instances. An instance is a specific object created from a particular class.\n",
    "# For example, above we created the object lst which was an instance of a list object.\n",
    "\n",
    "# create a new object called sample\n",
    "class Sample():\n",
    "    pass\n",
    "\n",
    "#instance of Sample\n",
    "# ins is now new instance of sample class, In other words, we instantiate the Sample class.\n",
    "ins = Sample()\n",
    "\n",
    "# \n",
    "print(type(ins))"
   ]
  },
  {
   "cell_type": "code",
   "execution_count": 19,
   "metadata": {},
   "outputs": [
    {
     "data": {
      "text/plain": [
       "'huskie'"
      ]
     },
     "execution_count": 19,
     "metadata": {},
     "output_type": "execute_result"
    }
   ],
   "source": [
    "# Inside of the class we currently just have pass. But we can define class attributes and methods.\n",
    "# An attribute is a characteristic of an object. A method is an operation we can perform with the object.\n",
    "# The syntax for creating an attribute is:\n",
    "# self.attribute = something\n",
    "# There is a special method called:\n",
    "# __init__()\n",
    "# This method is used to initialize the attributes of an object. For example:\n",
    "\n",
    "class Dog():\n",
    "    \n",
    "    def __init__(self,breed):\n",
    "#in \"self.breed\" ,\"the breed here is the attribute name\"      \n",
    "        self.breed =  breed\n",
    "    \n",
    "sam = Dog(breed=\"huskie\")\n",
    "\n",
    "franky = Dog(breed=\"lab\")\n",
    "        \n",
    "sam.breed\n",
    "\n",
    "\n",
    "# __init__() \n",
    "# is called automatically right after the object has been created:\n",
    "# def __init__(self, breed):\n",
    "# NOTE: Each attribute in a class definition begins with a reference to the instance object. It is by convention named self. \n",
    "# The breed is the argument. The value is passed during the class instantiation.\n",
    "#  self.breed = breed"
   ]
  },
  {
   "cell_type": "code",
   "execution_count": 20,
   "metadata": {},
   "outputs": [
    {
     "data": {
      "text/plain": [
       "'lab'"
      ]
     },
     "execution_count": 20,
     "metadata": {},
     "output_type": "execute_result"
    }
   ],
   "source": [
    "franky.breed"
   ]
  },
  {
   "cell_type": "code",
   "execution_count": 45,
   "metadata": {},
   "outputs": [],
   "source": [
    "# In Python there are also class object attributes. These Class Object Attributes are the same for any instance of the class.\n",
    "# For example, we could create the attribute species for the Dog class\n",
    "class Dog():\n",
    "\n",
    "# species is a class object attribute    \n",
    "    species = \"mammal\"\n",
    "    \n",
    "    def __init__(self,breed,name):\n",
    "        self.breed =  breed\n",
    "        self.name  = name\n",
    "    \n",
    "    def bark(self):\n",
    "        print(\"bark\")\n",
    "\n",
    "sam = Dog(breed=\"pomerian\",name=\"rocky\")\n",
    "        "
   ]
  },
  {
   "cell_type": "code",
   "execution_count": 46,
   "metadata": {},
   "outputs": [
    {
     "data": {
      "text/plain": [
       "'mammal'"
      ]
     },
     "execution_count": 46,
     "metadata": {},
     "output_type": "execute_result"
    }
   ],
   "source": [
    "sam.species"
   ]
  },
  {
   "cell_type": "code",
   "execution_count": 47,
   "metadata": {},
   "outputs": [
    {
     "name": "stdout",
     "output_type": "stream",
     "text": [
      "bark\n"
     ]
    }
   ],
   "source": [
    "sam.bark()"
   ]
  },
  {
   "cell_type": "code",
   "execution_count": 41,
   "metadata": {},
   "outputs": [],
   "source": []
  },
  {
   "cell_type": "code",
   "execution_count": 53,
   "metadata": {},
   "outputs": [],
   "source": [
    "# Methods\n",
    "# Methods are functions defined inside the body of a class. \n",
    "# They are used to perform operations with the attributes of our objects. \n",
    "# Methods are a key concept of the OOP paradigm. \n",
    "# They are essential to dividing responsibilities in programming, especially in large applications.\n",
    "# You can basically think of methods as functions acting on an Object that take the Object itself \n",
    "# into account through its self argument.\n",
    "# Let's go through an example of creating a Circle class:\n",
    "\n",
    "class Circle():\n",
    "    \n",
    "    pi = 3.14\n",
    "    \n",
    "    def __init__(self,radius=1):\n",
    "        self.radius = radius\n",
    "#pi is a class object attribute and can also be reffered as Circle.pi intead of self .pi         \n",
    "        self.area = radius*radius*self.pi\n",
    "        \n",
    "    def setRadius(self,newradius):\n",
    "        self.newradius = newradius\n",
    "        self.area = newradius*newradius*self.pi\n",
    "        \n",
    "    def getCircumference(self):\n",
    "        return self.radius*self.pi*2\n",
    "\n",
    "c = Circle()"
   ]
  },
  {
   "cell_type": "code",
   "execution_count": 54,
   "metadata": {},
   "outputs": [
    {
     "data": {
      "text/plain": [
       "3.14"
      ]
     },
     "execution_count": 54,
     "metadata": {},
     "output_type": "execute_result"
    }
   ],
   "source": [
    "c.area"
   ]
  },
  {
   "cell_type": "code",
   "execution_count": 55,
   "metadata": {},
   "outputs": [],
   "source": [
    "c.setRadius(2)"
   ]
  },
  {
   "cell_type": "code",
   "execution_count": 56,
   "metadata": {},
   "outputs": [
    {
     "data": {
      "text/plain": [
       "12.56"
      ]
     },
     "execution_count": 56,
     "metadata": {},
     "output_type": "execute_result"
    }
   ],
   "source": [
    "c.area"
   ]
  },
  {
   "cell_type": "code",
   "execution_count": 57,
   "metadata": {},
   "outputs": [
    {
     "data": {
      "text/plain": [
       "6.28"
      ]
     },
     "execution_count": 57,
     "metadata": {},
     "output_type": "execute_result"
    }
   ],
   "source": [
    "c.getCircumference()"
   ]
  },
  {
   "cell_type": "code",
   "execution_count": 93,
   "metadata": {},
   "outputs": [
    {
     "name": "stdout",
     "output_type": "stream",
     "text": [
      "The animal created\n"
     ]
    }
   ],
   "source": [
    "# Inheritance\n",
    "# Inheritance is a way to form new classes using classes that have already been defined.\n",
    "# The newly formed classes are called derived classes, the classes that we derive from are called base classes.\n",
    "# Important benefits of inheritance are code reuse and reduction of complexity of a program.\n",
    "# The derived classes (descendants) override or extend the functionality of base classes (ancestors).\n",
    "# Let's see an example by incorporating our previous work on the Dog class:\n",
    "class Animal():\n",
    "    def __init__(self):\n",
    "        print(\"The animal created\")\n",
    "    \n",
    "    def whoAmI(self):\n",
    "        print(\"i am an animal\")\n",
    "        \n",
    "    def eating(self):\n",
    "        print(\"eating meat\")\n",
    "\n",
    "class Dog(Animal):\n",
    "    def __init__(self):\n",
    "        Animal.__init__(self)\n",
    "        print(\"the Dog created\")\n",
    "        \n",
    "    def whoAmI(self):\n",
    "        print(\"I am the dog\")\n",
    "    \n",
    "    def bark(self):\n",
    "        print(\"woof woof\")\n",
    "\n",
    "dog=Animal()\n"
   ]
  },
  {
   "cell_type": "code",
   "execution_count": 94,
   "metadata": {},
   "outputs": [
    {
     "name": "stdout",
     "output_type": "stream",
     "text": [
      "The animal created\n",
      "the Dog created\n"
     ]
    }
   ],
   "source": [
    "dog = Dog()"
   ]
  },
  {
   "cell_type": "code",
   "execution_count": 95,
   "metadata": {},
   "outputs": [
    {
     "name": "stdout",
     "output_type": "stream",
     "text": [
      "I am the dog\n"
     ]
    }
   ],
   "source": [
    "dog.whoAmI()"
   ]
  },
  {
   "cell_type": "code",
   "execution_count": 97,
   "metadata": {},
   "outputs": [
    {
     "name": "stdout",
     "output_type": "stream",
     "text": [
      "eating meat\n"
     ]
    }
   ],
   "source": [
    "# In this example, we have two classes: Animal and Dog. The Animal is the base class, the Dog is the derived class.\n",
    "# The derived class inherits the functionality of the base class.\n",
    "# It is shown by the eat() method.\n",
    "# The derived class modifies existing behavior of the base class.\n",
    "# shown by the whoAmI() method.\n",
    "# Finally, the derived class extends the functionality of the base class, by defining a new bark() method.\n",
    "\n",
    "dog.eating()\n"
   ]
  },
  {
   "cell_type": "markdown",
   "metadata": {},
   "source": [
    " # Polymorphism\n",
    "We've learned that while functions can take in different arguments, methods belong to the objects they act on. In Python, polymorphism refers to the way in which different object classes can share the same method name, and those methods can be called from the same place even though a variety of different objects might be passed in. The best way to explain this is by example:"
   ]
  },
  {
   "cell_type": "code",
   "execution_count": 140,
   "metadata": {},
   "outputs": [],
   "source": [
    "class Dog():\n",
    "    def __init__(self,name):\n",
    "        self.name = name\n",
    "    \n",
    "    def speak(self,speak='woof'):\n",
    "        \n",
    "        return self.name+' does '+  speak + ' '+ speak\n",
    "\n",
    "class Cat():\n",
    "    def __init__(self,name):\n",
    "        self.name = name\n",
    "        \n",
    "    def speak(self,speak='meow'):\n",
    "     \n",
    "        return self.name + ' does '+ speak +' ' + speak\n",
    "        \n",
    "    "
   ]
  },
  {
   "cell_type": "code",
   "execution_count": 141,
   "metadata": {},
   "outputs": [],
   "source": [
    "dog = Dog('rocky')\n",
    "cat = Cat('felix')"
   ]
  },
  {
   "cell_type": "code",
   "execution_count": 142,
   "metadata": {},
   "outputs": [
    {
     "data": {
      "text/plain": [
       "'felix does meow meow'"
      ]
     },
     "execution_count": 142,
     "metadata": {},
     "output_type": "execute_result"
    }
   ],
   "source": [
    "cat.speak()"
   ]
  },
  {
   "cell_type": "code",
   "execution_count": 143,
   "metadata": {},
   "outputs": [
    {
     "data": {
      "text/plain": [
       "'rocky does woof woof'"
      ]
     },
     "execution_count": 143,
     "metadata": {},
     "output_type": "execute_result"
    }
   ],
   "source": [
    "dog.speak()"
   ]
  },
  {
   "cell_type": "code",
   "execution_count": 144,
   "metadata": {},
   "outputs": [
    {
     "name": "stdout",
     "output_type": "stream",
     "text": [
      "rocky does woof woof\n",
      "felix does meow meow\n"
     ]
    }
   ],
   "source": [
    "#polymorphism  using for loop\n",
    "for pet in [dog,cat]:\n",
    "    print(pet.speak())"
   ]
  },
  {
   "cell_type": "code",
   "execution_count": 148,
   "metadata": {},
   "outputs": [
    {
     "data": {
      "text/plain": [
       "'felix does meow meow'"
      ]
     },
     "execution_count": 148,
     "metadata": {},
     "output_type": "execute_result"
    }
   ],
   "source": [
    "#polymorphism using functions\n",
    "def pet_speak(pet):\n",
    "    print(pet.speak())\n",
    "\n",
    "cat.speak()\n"
   ]
  },
  {
   "cell_type": "code",
   "execution_count": 149,
   "metadata": {},
   "outputs": [
    {
     "data": {
      "text/plain": [
       "'rocky does woof woof'"
      ]
     },
     "execution_count": 149,
     "metadata": {},
     "output_type": "execute_result"
    }
   ],
   "source": [
    "dog.speak()"
   ]
  },
  {
   "cell_type": "code",
   "execution_count": 153,
   "metadata": {},
   "outputs": [
    {
     "data": {
      "text/plain": [
       "'tommy'"
      ]
     },
     "execution_count": 153,
     "metadata": {},
     "output_type": "execute_result"
    }
   ],
   "source": [
    "# A more common practice is to use abstract classes and inheritance. \n",
    "# An abstract class is one that never expects to be instantiated. \n",
    "# For example, we will never have an Animal object, only Dog and Cat objects, although Dogs and Cats are derived from Animals:\n",
    "class Animal():\n",
    "    \n",
    "    def __init__(self,name):\n",
    "        self.name = name\n",
    "    \n",
    "    def speak():\n",
    "        raise NotImplementedError(\"Subclass must implement this abstract method\")\n",
    "\n",
    "myanimal = Animal(\"tommy\")\n",
    "\n",
    "myanimal.name\n",
    "\n",
    "\n"
   ]
  },
  {
   "cell_type": "code",
   "execution_count": 154,
   "metadata": {},
   "outputs": [
    {
     "ename": "TypeError",
     "evalue": "speak() takes 0 positional arguments but 1 was given",
     "output_type": "error",
     "traceback": [
      "\u001b[1;31m---------------------------------------------------------------------------\u001b[0m",
      "\u001b[1;31mTypeError\u001b[0m                                 Traceback (most recent call last)",
      "\u001b[1;32m<ipython-input-154-188713a00ef6>\u001b[0m in \u001b[0;36m<module>\u001b[1;34m()\u001b[0m\n\u001b[1;32m----> 1\u001b[1;33m \u001b[0mmyanimal\u001b[0m\u001b[1;33m.\u001b[0m\u001b[0mspeak\u001b[0m\u001b[1;33m(\u001b[0m\u001b[1;33m)\u001b[0m\u001b[1;33m\u001b[0m\u001b[0m\n\u001b[0m",
      "\u001b[1;31mTypeError\u001b[0m: speak() takes 0 positional arguments but 1 was given"
     ]
    }
   ],
   "source": [
    "myanimal.speak()"
   ]
  },
  {
   "cell_type": "code",
   "execution_count": 159,
   "metadata": {},
   "outputs": [
    {
     "data": {
      "text/plain": [
       "'myk does meow meow'"
      ]
     },
     "execution_count": 159,
     "metadata": {},
     "output_type": "execute_result"
    }
   ],
   "source": [
    "# We can use the above created abstarct class for other class for example:\n",
    "class Cat(Animal):\n",
    "    \n",
    "    def speak(self):\n",
    "        return self.name+\" \"+\"does\"+\" \"+\"meow meow\"\n",
    "\n",
    "class Dog(Animal):\n",
    "    \n",
    "    def speak(self):\n",
    "        return self.name+\" \"+\"does\"+\" \"+\"Woof Woof\"\n",
    "\n",
    "a = Cat('myk')\n",
    "a.speak()\n",
    "\n"
   ]
  },
  {
   "cell_type": "code",
   "execution_count": 160,
   "metadata": {},
   "outputs": [
    {
     "data": {
      "text/plain": [
       "'tommy does Woof Woof'"
      ]
     },
     "execution_count": 160,
     "metadata": {},
     "output_type": "execute_result"
    }
   ],
   "source": [
    "b=Dog('tommy')\n",
    "b.speak()"
   ]
  },
  {
   "cell_type": "markdown",
   "metadata": {},
   "source": [
    "# special methods\n",
    "### Finally let's go over special methods. Classes in Python can implement certain operations with special method names. These methods are not actually called directly but by Python specific language syntax. For example let's create a Book class"
   ]
  },
  {
   "cell_type": "code",
   "execution_count": 179,
   "metadata": {},
   "outputs": [],
   "source": [
    "class Book():\n",
    "    \n",
    "    def __init__(self,title,author,pages):\n",
    "        self.title = title\n",
    "        self.author = author\n",
    "        self.pages = pages\n",
    "    \n",
    "    def __str__(self):\n",
    "        return f\"the title is {self.title}, the author is {self.author}, number of pages are {self.pages}\"\n",
    "    \n",
    "    def __len__(self):\n",
    "        return self.pages\n",
    "    \n",
    "    def __del__(self):\n",
    "        print('the book has been deleted')"
   ]
  },
  {
   "cell_type": "code",
   "execution_count": 180,
   "metadata": {},
   "outputs": [
    {
     "name": "stdout",
     "output_type": "stream",
     "text": [
      "the book has been deleted\n"
     ]
    }
   ],
   "source": [
    "book = Book(\"harry poter\",\"jk rolling\",300)"
   ]
  },
  {
   "cell_type": "code",
   "execution_count": 181,
   "metadata": {},
   "outputs": [
    {
     "name": "stdout",
     "output_type": "stream",
     "text": [
      "the title is harry poter, the author is jk rolling, number of pages are 300\n"
     ]
    }
   ],
   "source": [
    "print(book)"
   ]
  },
  {
   "cell_type": "code",
   "execution_count": 182,
   "metadata": {},
   "outputs": [
    {
     "data": {
      "text/plain": [
       "300"
      ]
     },
     "execution_count": 182,
     "metadata": {},
     "output_type": "execute_result"
    }
   ],
   "source": [
    "len(book)"
   ]
  },
  {
   "cell_type": "code",
   "execution_count": 183,
   "metadata": {},
   "outputs": [
    {
     "name": "stdout",
     "output_type": "stream",
     "text": [
      "the book has been deleted\n"
     ]
    }
   ],
   "source": [
    "del(book)"
   ]
  },
  {
   "cell_type": "code",
   "execution_count": 184,
   "metadata": {},
   "outputs": [
    {
     "ename": "NameError",
     "evalue": "name 'book' is not defined",
     "output_type": "error",
     "traceback": [
      "\u001b[1;31m---------------------------------------------------------------------------\u001b[0m",
      "\u001b[1;31mNameError\u001b[0m                                 Traceback (most recent call last)",
      "\u001b[1;32m<ipython-input-184-36d237dcf0c8>\u001b[0m in \u001b[0;36m<module>\u001b[1;34m()\u001b[0m\n\u001b[1;32m----> 1\u001b[1;33m \u001b[0mprint\u001b[0m\u001b[1;33m(\u001b[0m\u001b[0mbook\u001b[0m\u001b[1;33m)\u001b[0m\u001b[1;33m\u001b[0m\u001b[0m\n\u001b[0m",
      "\u001b[1;31mNameError\u001b[0m: name 'book' is not defined"
     ]
    }
   ],
   "source": [
    "print(book)"
   ]
  },
  {
   "cell_type": "markdown",
   "metadata": {},
   "source": [
    "The __init__(), __str__(), __len__() and __del__() methods\n",
    "These special methods are defined by their use of underscores. \n",
    "They allow us to use Python specific functions on objects created through our class."
   ]
  },
  {
   "cell_type": "code",
   "execution_count": null,
   "metadata": {},
   "outputs": [],
   "source": []
  }
 ],
 "metadata": {
  "kernelspec": {
   "display_name": "Python 3",
   "language": "python",
   "name": "python3"
  },
  "language_info": {
   "codemirror_mode": {
    "name": "ipython",
    "version": 3
   },
   "file_extension": ".py",
   "mimetype": "text/x-python",
   "name": "python",
   "nbconvert_exporter": "python",
   "pygments_lexer": "ipython3",
   "version": "3.6.4"
  }
 },
 "nbformat": 4,
 "nbformat_minor": 2
}
