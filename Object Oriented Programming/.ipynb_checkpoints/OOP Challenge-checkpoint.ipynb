{
 "cells": [
  {
   "cell_type": "code",
   "execution_count": 1,
   "metadata": {},
   "outputs": [],
   "source": [
    "# Object Oriented Programming Challenge\n",
    "# For this challenge, create a bank account class that has two attributes:\n",
    "\n",
    "# owner\n",
    "# balance\n",
    "# and two methods:\n",
    "\n",
    "# deposit\n",
    "# withdraw\n",
    "# As an added requirement, withdrawals may not exceed the available balance.\n",
    "\n",
    "# Instantiate your class, make several deposits and withdrawals, and test to make sure the account can't be overdrawn."
   ]
  },
  {
   "cell_type": "code",
   "execution_count": 55,
   "metadata": {},
   "outputs": [],
   "source": [
    "class BankAccount():\n",
    "    \n",
    "#     totalAmount = 0\n",
    "    \n",
    "    def __init__(self,owner,balance=0):\n",
    "        self.owner   = owner\n",
    "        self.balance = balance\n",
    "    \n",
    "    def __str__(self):\n",
    "        return f'Account owner:{self.owner}\\nAccount balance: ${self.balance}'\n",
    "    \n",
    "    def deposit(self,deposit):\n",
    "        self.deposit = deposit\n",
    "        self.balance = self.deposit + self.balance\n",
    "        return self.balance\n",
    "    \n",
    "    def withdraw(self,withdrawal):\n",
    "        self.withdrawal = withdrawal\n",
    "        \n",
    "        if(self.withdrawal > self.balance):\n",
    "            \n",
    "                return \"cannot withdraw more than the exceeded limit\"\n",
    "        else:\n",
    "                         \n",
    "                self.balance = self.balance - self.withdrawal\n",
    "                return f\"withrawal successful the available balance is {self.balance}\"\n",
    "               \n",
    "        "
   ]
  },
  {
   "cell_type": "code",
   "execution_count": 56,
   "metadata": {},
   "outputs": [],
   "source": [
    "person = BankAccount(\"mayank\",1000)\n"
   ]
  },
  {
   "cell_type": "code",
   "execution_count": 57,
   "metadata": {},
   "outputs": [
    {
     "data": {
      "text/plain": [
       "1500"
      ]
     },
     "execution_count": 57,
     "metadata": {},
     "output_type": "execute_result"
    }
   ],
   "source": [
    "person.deposit(500)"
   ]
  },
  {
   "cell_type": "code",
   "execution_count": 58,
   "metadata": {},
   "outputs": [
    {
     "data": {
      "text/plain": [
       "'cannot withdraw more than the exceeded limit'"
      ]
     },
     "execution_count": 58,
     "metadata": {},
     "output_type": "execute_result"
    }
   ],
   "source": [
    "person.withdraw(2000)"
   ]
  },
  {
   "cell_type": "code",
   "execution_count": 59,
   "metadata": {},
   "outputs": [
    {
     "data": {
      "text/plain": [
       "'withrawal successful the available balance is 1000'"
      ]
     },
     "execution_count": 59,
     "metadata": {},
     "output_type": "execute_result"
    }
   ],
   "source": [
    "person.withdraw(500)"
   ]
  },
  {
   "cell_type": "code",
   "execution_count": 60,
   "metadata": {},
   "outputs": [
    {
     "name": "stdout",
     "output_type": "stream",
     "text": [
      "Account owner:mayank\n",
      "Account balance: $1000\n"
     ]
    }
   ],
   "source": [
    "print(person)"
   ]
  },
  {
   "cell_type": "code",
   "execution_count": 61,
   "metadata": {},
   "outputs": [
    {
     "data": {
      "text/plain": [
       "'withrawal successful the available balance is 800'"
      ]
     },
     "execution_count": 61,
     "metadata": {},
     "output_type": "execute_result"
    }
   ],
   "source": [
    "person.withdraw(200)"
   ]
  },
  {
   "cell_type": "code",
   "execution_count": null,
   "metadata": {},
   "outputs": [],
   "source": [
    "from IPython.display import clear_output\n",
    "\n",
    "def display_board(board):\n",
    "    \n",
    "    clear_output()\n",
    "    \n",
    "    print(board[1]+'|'+board[2]+'|'+board[3])\n",
    "    print('_|_|_')\n",
    "    print(board[4]+'|'+board[5]+'|'+board[6])\n",
    "    print('_|_|_')\n",
    "    print(board[7]+'|'+board[8]+'|'+board[9])\n",
    "        \n",
    "    \n",
    "input_board = ['#','X','o','X','o','X','o','X','o','X']\n",
    "\n",
    "display_board(input_board)\n",
    "\n",
    "def player_input():\n",
    "    marker = input('player1 please enter x or o ')\n",
    "    \n",
    "    while marker != 'x' or marker != 'o':\n",
    "        marker = input('player one choose x or o')\n",
    "    \n",
    "#Assign player2 the opposite marker\n",
    "    player1 = marker\n",
    "    \n",
    "    if player1 == 'x':\n",
    "        player2 = 'o'\n",
    "    \n",
    "    elif player1 == 'o':\n",
    "        player2 = 'x'\n",
    "    \n",
    "    return(player1,player2)"
   ]
  }
 ],
 "metadata": {
  "kernelspec": {
   "display_name": "Python 3",
   "language": "python",
   "name": "python3"
  },
  "language_info": {
   "codemirror_mode": {
    "name": "ipython",
    "version": 3
   },
   "file_extension": ".py",
   "mimetype": "text/x-python",
   "name": "python",
   "nbconvert_exporter": "python",
   "pygments_lexer": "ipython3",
   "version": "3.6.4"
  }
 },
 "nbformat": 4,
 "nbformat_minor": 2
}
