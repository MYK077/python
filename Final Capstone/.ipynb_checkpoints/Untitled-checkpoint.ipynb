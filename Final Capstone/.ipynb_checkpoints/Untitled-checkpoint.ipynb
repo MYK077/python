{
 "cells": [
  {
   "cell_type": "code",
   "execution_count": 12,
   "metadata": {},
   "outputs": [
    {
     "ename": "SyntaxError",
     "evalue": "Missing parentheses in call to 'print'. Did you mean print(print key, value)? (<ipython-input-12-8c1630ab21cd>, line 34)",
     "output_type": "error",
     "traceback": [
      "\u001b[1;36m  File \u001b[1;32m\"<ipython-input-12-8c1630ab21cd>\"\u001b[1;36m, line \u001b[1;32m34\u001b[0m\n\u001b[1;33m    print key, value\u001b[0m\n\u001b[1;37m            ^\u001b[0m\n\u001b[1;31mSyntaxError\u001b[0m\u001b[1;31m:\u001b[0m Missing parentheses in call to 'print'. Did you mean print(print key, value)?\n"
     ]
    }
   ],
   "source": [
    "class Reservation:\n",
    "    def __init__(self,passenger_id,passenger_fname,passenger_lname):\n",
    "        self.passenger_id = passenger_id\n",
    "        self.passenger_fname = passenger_fname\n",
    "        self.passenger_lname = passenger_lname\n",
    "        self.cost = 0\n",
    "        self.reservation_id = []\n",
    "        self.passenger_record = {'p_name'  : self.passenger_fname + self.passenger_lname,\n",
    "                             'p_id'    : self.passenger_id,\n",
    "                             'p_wallet': self.cost,\n",
    "                             'p_reservation_id': self.reservation_id,\n",
    "                            }\n",
    "        self.airline_seats = { 'Business Class' : 50,\n",
    "                           'First Class'    : 50,\n",
    "                           'Premium Economy': 100,\n",
    "                           'Regular Economy': 150 }\n",
    "        self.airline_price = { 'Business Class' : 2500,\n",
    "                           'First Class'    : 2000,\n",
    "                           'Premium Economy': 1800,\n",
    "                           'Regular Economy': 1500 }\n",
    "        self.hotel_room = {'Penthouse'             : 10,\n",
    "                       'King Deluxe Bedroom'    : 20,\n",
    "                       'Queen Deluxe Bedroom'   : 20,\n",
    "                       'Kind Standard Bedroom' : 30,\n",
    "                       'Queen Standard Bedroom': 50 }\n",
    "        self.hotel_price = {'Penthouse'            : 1000,\n",
    "                        'King Deluxe Bedroom'    : 700,\n",
    "                        'Queen Deluxe Bedroom'   : 600,\n",
    "                        'Kind Standard Bedroom' : 450,\n",
    "                        'Queen Standard Bedroom': 350 }\n",
    "    def currentStatus(self,option):\n",
    "        if option == \"Airline\":\n",
    "            for key, value in self.airline_seats.items():\n",
    "                print (key, value)\n",
    "        elif option == \"Hotel\":\n",
    "            for key,value in self.hotel_room.items():\n",
    "                print (key, value)\n",
    "\n",
    "    def Total(self):\n",
    "        print self.passenger_record['p_wallet']\n",
    "\n",
    "class Airline(Reservation):\n",
    "    def __init__(self,passenger_id,passenger_fname,passenger_lname,airline_seat_section,\n",
    "         airline_departure_date):\n",
    "        Reservation.__init__(self,passenger_id,passenger_fname,passenger_lname)\n",
    "        self.airline_seat_section = airline_seat_section\n",
    "        self.airline_departure_date = airline_departure_date\n",
    "\n",
    "    def CheckAvailability(self):\n",
    "        if  (self.airline_seats.get(self.airline_seat_section) != 0):\n",
    "            self.airline_seats[self.airline_seat_section] -= 1\n",
    "            self.passenger_record['p_wallet'] +=        self.airline_price[self.airline_seat_section]\n",
    "            print \"\\n\\nReserved Airline Ticket\\n\\n\"\n",
    "\n",
    "class Hotel(Reservation):\n",
    "    def __init__(self,passenger_id,passenger_fname,passenger_lname,hotel_room_selection,\n",
    "             hotel_check_in_date,hotel_check_out_date):\n",
    "        Reservation.__init__(self,passenger_id,passenger_fname,passenger_lname)\n",
    "        self.hotel_room_selection = hotel_room_selection\n",
    "        self.hotel_check_in_date = hotel_check_in_date\n",
    "        self.hotel_check_out_date = hotel_check_out_date\n",
    "\n",
    "    def CheckAvailability(self):\n",
    "        if (self.hotel_room.get(self.hotel_room_selection) != 0):\n",
    "            self.hotel_room[self.hotel_room_selection] -= 1\n",
    "            self.passenger_record['p_wallet'] += self.hotel_price[self.hotel_room_selection]\n",
    "            print \"\\n\\nReserved Hotel Room\\n\\n\"\n",
    "\n",
    "A1 = Airline(\"1\",\"Arun\",\"Raman\",\"Business Class\",\"07-07-2014\")\n",
    "A1.CheckAvailability()\n",
    "A1.currentStatus(\"Airline\")\n",
    "H1 = Hotel(\"1\",\"Arun\",\"Raman\",\"Penthouse\",\"07-07-2014\",\"07-10-2014\")\n",
    "H1.CheckAvailability()\n",
    "H1.currentStatus(\"Hotel\")\n",
    "python object-oriented\n",
    "shareimprove this question\n",
    "edited May 7 '14 at 7:06\n",
    "\n",
    "Jamal♦\n",
    "30k11114224\n",
    "asked May 2 '14 at 23:02\n",
    "\n",
    "Arman\n"
   ]
  },
  {
   "cell_type": "code",
   "execution_count": null,
   "metadata": {},
   "outputs": [],
   "source": []
  },
  {
   "cell_type": "code",
   "execution_count": null,
   "metadata": {},
   "outputs": [],
   "source": []
  }
 ],
 "metadata": {
  "kernelspec": {
   "display_name": "Python 3",
   "language": "python",
   "name": "python3"
  },
  "language_info": {
   "codemirror_mode": {
    "name": "ipython",
    "version": 3
   },
   "file_extension": ".py",
   "mimetype": "text/x-python",
   "name": "python",
   "nbconvert_exporter": "python",
   "pygments_lexer": "ipython3",
   "version": "3.6.4"
  }
 },
 "nbformat": 4,
 "nbformat_minor": 2
}
