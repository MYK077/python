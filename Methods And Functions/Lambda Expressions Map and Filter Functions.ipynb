{
 "cells": [
  {
   "cell_type": "code",
   "execution_count": 4,
   "metadata": {},
   "outputs": [],
   "source": [
    "# Map function: its a built in function\n",
    "# map function\n",
    "# The map function allows you to \"map\" a function to an iterable object.\n",
    "# That is to say you can quickly call the same function to every item in an iterable, such as a list. For example:\n",
    "def square(nums):\n",
    "    return nums**2\n"
   ]
  },
  {
   "cell_type": "code",
   "execution_count": 16,
   "metadata": {},
   "outputs": [
    {
     "name": "stdout",
     "output_type": "stream",
     "text": [
      "4\n",
      "25\n",
      "36\n",
      "49\n",
      "64\n"
     ]
    }
   ],
   "source": [
    "# Make an iterator that computes the function using arguments from\n",
    "# each of the iterables.\n",
    "my_numbers=[2,5,6,7,8]\n",
    "\n",
    "for items in map(square,my_numbers):\n",
    "    print(items)"
   ]
  },
  {
   "cell_type": "code",
   "execution_count": 17,
   "metadata": {},
   "outputs": [
    {
     "data": {
      "text/plain": [
       "[4, 25, 36, 49, 64]"
      ]
     },
     "execution_count": 17,
     "metadata": {},
     "output_type": "execute_result"
    }
   ],
   "source": [
    "# # To get the results, either iterate through map() \n",
    "# or just cast to a list\n",
    "list(map(square,my_numbers))"
   ]
  },
  {
   "cell_type": "code",
   "execution_count": 18,
   "metadata": {},
   "outputs": [],
   "source": [
    "# function returns full string if length of a string is even and first letter of string if length of a string is odd\n",
    "def splicer(string):\n",
    "    if len(string)%2 ==  0:\n",
    "        return string\n",
    "    else:\n",
    "        return string[0]"
   ]
  },
  {
   "cell_type": "code",
   "execution_count": 19,
   "metadata": {},
   "outputs": [
    {
     "data": {
      "text/plain": [
       "['abby', 'd', 's', 'v']"
      ]
     },
     "execution_count": 19,
     "metadata": {},
     "output_type": "execute_result"
    }
   ],
   "source": [
    "names = ['abby', 'dabby', 'samue', 'venue']\n",
    "\n",
    "list(map(splicer,names))"
   ]
  },
  {
   "cell_type": "code",
   "execution_count": 20,
   "metadata": {},
   "outputs": [],
   "source": [
    "# function check evem\n",
    "def check_even(num):\n",
    "    return num%2 == 0"
   ]
  },
  {
   "cell_type": "code",
   "execution_count": 21,
   "metadata": {},
   "outputs": [
    {
     "data": {
      "text/plain": [
       "[True, False, True, False, True]"
      ]
     },
     "execution_count": 21,
     "metadata": {},
     "output_type": "execute_result"
    }
   ],
   "source": [
    "numbers=[2,3,4,5,6]\n",
    "list(map(check_even,numbers))"
   ]
  },
  {
   "cell_type": "code",
   "execution_count": 24,
   "metadata": {},
   "outputs": [
    {
     "data": {
      "text/plain": [
       "[2, 4, 6]"
      ]
     },
     "execution_count": 24,
     "metadata": {},
     "output_type": "execute_result"
    }
   ],
   "source": [
    "# we can also use filter function instead of map\n",
    "# Return an iterator yielding those items of iterable for which function(item) is true.\n",
    "# Meaning you need to filter by a function that returns either True or False. \n",
    "# Then passing that into filter (along with your iterable) and \n",
    "# you will get back only the results that would return True when passed to the function.\n",
    "\n",
    "list(filter(check_even,numbers))"
   ]
  },
  {
   "cell_type": "code",
   "execution_count": 26,
   "metadata": {},
   "outputs": [
    {
     "data": {
      "text/plain": [
       "9"
      ]
     },
     "execution_count": 26,
     "metadata": {},
     "output_type": "execute_result"
    }
   ],
   "source": [
    "# LAMBDA EXPRESSION\n",
    "def square(num):\n",
    "    result = num**2\n",
    "    return result\n",
    "square(3)"
   ]
  },
  {
   "cell_type": "code",
   "execution_count": 29,
   "metadata": {},
   "outputs": [
    {
     "data": {
      "text/plain": [
       "9"
      ]
     },
     "execution_count": 29,
     "metadata": {},
     "output_type": "execute_result"
    }
   ],
   "source": [
    "# now using LAMBDA EXPRESSION FOR THE SAME\n",
    "# lambda expressions allow us to create \"anonymous\" functions. \n",
    "# This basically means we can quickly make ad-hoc functions without needing to properly define a function using def.\n",
    "\n",
    "sq= lambda num: num**2\n",
    "\n",
    "sq(3)"
   ]
  },
  {
   "cell_type": "code",
   "execution_count": 31,
   "metadata": {},
   "outputs": [
    {
     "data": {
      "text/plain": [
       "[81, 64, 100, 49]"
      ]
     },
     "execution_count": 31,
     "metadata": {},
     "output_type": "execute_result"
    }
   ],
   "source": [
    "# or we could also use list and maps with lambda expressions\n",
    "nums=[9,8,10,7]\n",
    "list(map(lambda num:num**2,nums))"
   ]
  },
  {
   "cell_type": "code",
   "execution_count": 32,
   "metadata": {},
   "outputs": [
    {
     "data": {
      "text/plain": [
       "[False, True, True, False]"
      ]
     },
     "execution_count": 32,
     "metadata": {},
     "output_type": "execute_result"
    }
   ],
   "source": [
    "# conversting check_even to lambda\n",
    "# def check_even(num):\n",
    "#     return num%2 == 0\n",
    "list(map(lambda num: num%2 == 0,nums))\n"
   ]
  },
  {
   "cell_type": "code",
   "execution_count": 33,
   "metadata": {},
   "outputs": [
    {
     "data": {
      "text/plain": [
       "[8, 10]"
      ]
     },
     "execution_count": 33,
     "metadata": {},
     "output_type": "execute_result"
    }
   ],
   "source": [
    "# we can also use filter function\n",
    "list(filter(lambda num: num%2 == 0,nums))"
   ]
  },
  {
   "cell_type": "code",
   "execution_count": 35,
   "metadata": {},
   "outputs": [
    {
     "data": {
      "text/plain": [
       "['a', 'd', 's', 'v']"
      ]
     },
     "execution_count": 35,
     "metadata": {},
     "output_type": "execute_result"
    }
   ],
   "source": [
    "#Lambda expression are useful suppose we want to pick first letter from names list\n",
    "list(map(lambda first_letter: first_letter[0],names))"
   ]
  },
  {
   "cell_type": "code",
   "execution_count": 38,
   "metadata": {},
   "outputs": [
    {
     "data": {
      "text/plain": [
       "['ybba', 'ybbad', 'eumas', 'eunev']"
      ]
     },
     "execution_count": 38,
     "metadata": {},
     "output_type": "execute_result"
    }
   ],
   "source": [
    "# using lambda to reverse the actual name\n",
    "list(map(lambda first_letter: first_letter[::-1],names))"
   ]
  },
  {
   "cell_type": "code",
   "execution_count": null,
   "metadata": {},
   "outputs": [],
   "source": []
  }
 ],
 "metadata": {
  "kernelspec": {
   "display_name": "Python 3",
   "language": "python",
   "name": "python3"
  },
  "language_info": {
   "codemirror_mode": {
    "name": "ipython",
    "version": 3
   },
   "file_extension": ".py",
   "mimetype": "text/x-python",
   "name": "python",
   "nbconvert_exporter": "python",
   "pygments_lexer": "ipython3",
   "version": "3.6.4"
  }
 },
 "nbformat": 4,
 "nbformat_minor": 2
}
