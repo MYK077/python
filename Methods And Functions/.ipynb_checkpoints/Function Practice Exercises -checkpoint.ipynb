{
 "cells": [
  {
   "cell_type": "code",
   "execution_count": 7,
   "metadata": {},
   "outputs": [],
   "source": [
    "# LESSER OF TWO EVENS: Write a function that returns the lesser of two given numbers if both numbers are even,\n",
    "# but returns the greater if one or both numbers are odd\n",
    "def myfunc(a,b):\n",
    "    if a%2==0 and b%2==0 :\n",
    "        if a>b:\n",
    "            return b\n",
    "        else: \n",
    "            return a\n",
    "    elif a%2 != 0 or b%2 != 0:\n",
    "        if a>b:\n",
    "            return a\n",
    "        else:\n",
    "            return b\n",
    "        "
   ]
  },
  {
   "cell_type": "code",
   "execution_count": 8,
   "metadata": {},
   "outputs": [
    {
     "name": "stdout",
     "output_type": "stream",
     "text": [
      "9\n"
     ]
    }
   ],
   "source": [
    "number = myfunc(2,9)\n",
    "print(number)"
   ]
  },
  {
   "cell_type": "code",
   "execution_count": 38,
   "metadata": {},
   "outputs": [
    {
     "data": {
      "text/plain": [
       "True"
      ]
     },
     "execution_count": 38,
     "metadata": {},
     "output_type": "execute_result"
    }
   ],
   "source": [
    "# ANIMAL CRACKERS: Write a function takes a two-word string and returns True if both words begin with same letter\n",
    "def animal_crackers(text):\n",
    "    new_input = text.split()\n",
    "    return new_input[0][0] == new_input[1][0]\n",
    "\n",
    "animal_crackers('sex sells')\n",
    "\n",
    "\n",
    "\n",
    "\n"
   ]
  },
  {
   "cell_type": "code",
   "execution_count": 39,
   "metadata": {},
   "outputs": [
    {
     "data": {
      "text/plain": [
       "True"
      ]
     },
     "execution_count": 39,
     "metadata": {},
     "output_type": "execute_result"
    }
   ],
   "source": [
    "# MAKES TWENTY: Given two integers, \n",
    "# return True if the sum of the integers is 20 or if one of the integers is 20. If not, return False\n",
    "def makes_twenty(x,y):\n",
    "    if x+y == 20:\n",
    "        return True\n",
    "    elif x==20 or y==20:\n",
    "        return True\n",
    "    else:\n",
    "        return False\n",
    "makes_twenty(5,15)\n",
    "\n"
   ]
  },
  {
   "cell_type": "code",
   "execution_count": 50,
   "metadata": {},
   "outputs": [
    {
     "data": {
      "text/plain": [
       "'MacDonald'"
      ]
     },
     "execution_count": 50,
     "metadata": {},
     "output_type": "execute_result"
    }
   ],
   "source": [
    "# OLD MACDONALD: Write a function that capitalizes the first and fourth letters of a name\n",
    "def capitalize_letter(name):\n",
    "    if len(name)>3:\n",
    "        return name[:3].capitalize()+name[3:].capitalize()\n",
    "    else:\n",
    "        return 'name is too short'\n",
    "\n",
    "capitalize_letter('macdonald')\n",
    "\n",
    "#NOTE: str.capitalize() Return a copy of the string with its first character capitalized and the rest lowercased.\n",
    "        \n",
    "            \n",
    "            "
   ]
  },
  {
   "cell_type": "code",
   "execution_count": 53,
   "metadata": {},
   "outputs": [
    {
     "data": {
      "text/plain": [
       "'mayank is name my hi'"
      ]
     },
     "execution_count": 53,
     "metadata": {},
     "output_type": "execute_result"
    }
   ],
   "source": [
    "# MASTER YODA: Given a sentence, return a sentence with the words reversed\n",
    "def reverse_sen(sentence):\n",
    "    new_sen = sentence.split()\n",
    "    return ' '.join(new_sen[::-1])\n",
    "reverse_sen('hi my name is mayank')\n",
    "\n",
    "\n",
    "\n"
   ]
  },
  {
   "cell_type": "code",
   "execution_count": 60,
   "metadata": {},
   "outputs": [
    {
     "data": {
      "text/plain": [
       "True"
      ]
     },
     "execution_count": 60,
     "metadata": {},
     "output_type": "execute_result"
    }
   ],
   "source": [
    "# ALMOST THERE: Given an integer n, return True if n is within 10 of either 100 or 200\n",
    "# here we are using the absolute value function\n",
    "def almost_there(n):\n",
    "    return (abs(100-n) <= 10) or (abs(200-n) <= 10)\n",
    "\n",
    "almost_there(105)"
   ]
  },
  {
   "cell_type": "code",
   "execution_count": 78,
   "metadata": {},
   "outputs": [
    {
     "data": {
      "text/plain": [
       "True"
      ]
     },
     "execution_count": 78,
     "metadata": {},
     "output_type": "execute_result"
    }
   ],
   "source": [
    "# FIND 33:\n",
    "# Given a list of ints, return True if the array contains a 3 next to a 3 somewhere.\n",
    "\n",
    "# has_33([1, 3, 3]) → True\n",
    "# has_33([1, 3, 1, 3]) → False\n",
    "# has_33([3, 1, 3]) → False\n",
    "\n",
    "def has_33(numbers):\n",
    "    for i in range(0,len(numbers)-1):\n",
    "        if numbers[i] == numbers[i+1]:\n",
    "            return True\n",
    "    return False\n",
    "\n",
    "has_33([1,3,8,9,4,4])\n",
    "\n"
   ]
  },
  {
   "cell_type": "code",
   "execution_count": 86,
   "metadata": {},
   "outputs": [
    {
     "data": {
      "text/plain": [
       "'hhhtttjjjiii'"
      ]
     },
     "execution_count": 86,
     "metadata": {},
     "output_type": "execute_result"
    }
   ],
   "source": [
    "# PAPER DOLL: Given a string, return a string where for every character in the original there are three characters\n",
    "def paper_doll(string):\n",
    "    result=''\n",
    "    for x in string:\n",
    "        result +=x*3\n",
    "    return result\n",
    "        \n",
    "paper_doll('htji')"
   ]
  },
  {
   "cell_type": "code",
   "execution_count": 120,
   "metadata": {},
   "outputs": [
    {
     "data": {
      "text/plain": [
       "'numbers should be between 1 and 11'"
      ]
     },
     "execution_count": 120,
     "metadata": {},
     "output_type": "execute_result"
    }
   ],
   "source": [
    "# BLACKJACK: Given three integers between 1 and 11, if their sum is less than or equal to 21, return their sum.\n",
    "# If their sum exceeds 21 and there's an eleven, reduce the total sum by 10. \n",
    "# Finally, if the sum (even after adjustment) exceeds 21, return 'BUST'\n",
    "\n",
    "def blackjack(a,b,c):\n",
    "    make_list= [a,b,c]\n",
    "    total = 0\n",
    "    for x in make_list:\n",
    "        if x >= 1 and x<=11:\n",
    "            total += x\n",
    "        else:\n",
    "            return \"numbers should be between 1 and 11\"\n",
    "    if(total> 21 and 11 in make_list):\n",
    "        total = total- 10\n",
    "    if(total>21):\n",
    "        return 'Bust'\n",
    "    return total\n",
    "\n",
    "blackjack(9,21,11)"
   ]
  },
  {
   "cell_type": "code",
   "execution_count": null,
   "metadata": {},
   "outputs": [],
   "source": [
    "# SUMMER OF '69: Return the sum of the numbers in the array, \n",
    "# except ignore sections of numbers starting with a 6 and extending to the next 9 (every 6 will be followed by at least one 9).\n",
    "# Return 0 for no numbers.\n",
    "def summer_69(array):\n",
    "    total = 0\n",
    "    for x in array:\n",
    "        if 6 in array and 9 in array:\n",
    "            total = \n"
   ]
  },
  {
   "cell_type": "code",
   "execution_count": null,
   "metadata": {},
   "outputs": [],
   "source": [
    "# CHALLENGING PROBLEMS\n",
    "# SPY GAME: Write a function that takes in a list of integers and returns True if it contains 007 in order\n"
   ]
  }
 ],
 "metadata": {
  "kernelspec": {
   "display_name": "Python 3",
   "language": "python",
   "name": "python3"
  },
  "language_info": {
   "codemirror_mode": {
    "name": "ipython",
    "version": 3
   },
   "file_extension": ".py",
   "mimetype": "text/x-python",
   "name": "python",
   "nbconvert_exporter": "python",
   "pygments_lexer": "ipython3",
   "version": "3.6.4"
  }
 },
 "nbformat": 4,
 "nbformat_minor": 2
}
