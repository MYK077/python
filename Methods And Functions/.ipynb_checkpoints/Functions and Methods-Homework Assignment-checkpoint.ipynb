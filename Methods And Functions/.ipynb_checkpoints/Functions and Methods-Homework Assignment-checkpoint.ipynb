{
 "cells": [
  {
   "cell_type": "code",
   "execution_count": 10,
   "metadata": {},
   "outputs": [
    {
     "data": {
      "text/plain": [
       "113.14285714285712"
      ]
     },
     "execution_count": 10,
     "metadata": {},
     "output_type": "execute_result"
    }
   ],
   "source": [
    "# Write a function that computes the volume of a sphere given its radius.\n",
    "# The volume of a sphere is given as\n",
    "def vol(radius):\n",
    "    return (4/3)*(22/7)*(radius**3)\n",
    "\n",
    "vol(3)"
   ]
  },
  {
   "cell_type": "code",
   "execution_count": 41,
   "metadata": {},
   "outputs": [
    {
     "name": "stdout",
     "output_type": "stream",
     "text": [
      "the number is not within the given range\n"
     ]
    }
   ],
   "source": [
    "# Write a function that checks whether a number is in a given range (inclusive of high and low)\n",
    "def check_range(num,low,high):\n",
    "    if num >= low and num <= high:\n",
    "        print (f'{num} is between range of {low} and {high}')\n",
    "    else:\n",
    "        print('the number is not within the given range')\n",
    "\n",
    "check_range(-8,2,5)"
   ]
  },
  {
   "cell_type": "code",
   "execution_count": null,
   "metadata": {},
   "outputs": [],
   "source": []
  },
  {
   "cell_type": "code",
   "execution_count": 56,
   "metadata": {},
   "outputs": [
    {
     "name": "stdout",
     "output_type": "stream",
     "text": [
      "the number of upper case characters are 3\n",
      "the number of lower case characters are 30\n"
     ]
    }
   ],
   "source": [
    "# Write a Python function that accepts a string and calculates the number of upper case letters and lower case letters.\n",
    "\n",
    "def up_low(string):\n",
    "    new_string = ' '.join(string)\n",
    "    num_uppercase = 0\n",
    "    num_lowercase = 0\n",
    "    for n in string:\n",
    "        if n.isupper():\n",
    "            num_uppercase += 1\n",
    "        elif n.islower():\n",
    "            num_lowercase += 1\n",
    "        else:\n",
    "            pass\n",
    "    print(f'the number of upper case characters are {num_uppercase}')\n",
    "    print(f'the number of lower case characters are {num_lowercase}')\n",
    "\n",
    "up_low('Hello MrRodgers are you fine today mk mk ')\n",
    "             "
   ]
  },
  {
   "cell_type": "code",
   "execution_count": 49,
   "metadata": {},
   "outputs": [
    {
     "data": {
      "text/plain": [
       "[5, 6, 7, 8, 88]"
      ]
     },
     "execution_count": 49,
     "metadata": {},
     "output_type": "execute_result"
    }
   ],
   "source": [
    "# Write a Python function that takes a list and returns a new list with unique elements of the first list.\n",
    "def unique(input_list):\n",
    "    new_list = list(set(input_list))\n",
    "    \n",
    "    return new_list\n",
    "\n",
    "unique([5,5,5,5,5,5,5,6,6,6,6,6,6,6,7,7,7,7,7,7,8,88,8,8,8  ])"
   ]
  },
  {
   "cell_type": "code",
   "execution_count": 57,
   "metadata": {},
   "outputs": [
    {
     "data": {
      "text/plain": [
       "[5, 6, 7, 8, 88]"
      ]
     },
     "execution_count": 57,
     "metadata": {},
     "output_type": "execute_result"
    }
   ],
   "source": [
    "def unique(input_list):\n",
    "    new_list = []\n",
    "    for x in input_list:\n",
    "        if x not in new_list:\n",
    "            new_list.append(x)\n",
    "       \n",
    "    return new_list\n",
    "\n",
    "unique([5,5,5,5,5,5,5,6,6,6,6,6,6,6,7,7,7,7,7,7,8,88,8,8,8  ])"
   ]
  },
  {
   "cell_type": "code",
   "execution_count": 66,
   "metadata": {},
   "outputs": [
    {
     "data": {
      "text/plain": [
       "54"
      ]
     },
     "execution_count": 66,
     "metadata": {},
     "output_type": "execute_result"
    }
   ],
   "source": [
    "# Write a Python function to multiply all the numbers in a list.\n",
    "def multiply(input_list):\n",
    "    total = 1;\n",
    "    for num in input_list:\n",
    "        total *= num\n",
    "    return total\n",
    "\n",
    "multiply([1,2,3,-1,-9])\n",
    "        \n",
    "    \n",
    " \n",
    "    "
   ]
  },
  {
   "cell_type": "code",
   "execution_count": 75,
   "metadata": {},
   "outputs": [
    {
     "name": "stdout",
     "output_type": "stream",
     "text": [
      "string is an palindrome\n"
     ]
    }
   ],
   "source": [
    "# Write a Python function that checks whether a passed string is palindrome or not.\n",
    "def palindrome(string):\n",
    "    string = string.replace(' ','')\n",
    "    if string == string[::-1]:\n",
    "        print('string is an palindrome')\n",
    "    else:\n",
    "        print('string is not a palindrome')\n",
    "palindrome('nurses run')"
   ]
  },
  {
   "cell_type": "code",
   "execution_count": 77,
   "metadata": {},
   "outputs": [
    {
     "data": {
      "text/plain": [
       "True"
      ]
     },
     "execution_count": 77,
     "metadata": {},
     "output_type": "execute_result"
    }
   ],
   "source": [
    "# Write a Python function to check whether a string is pangram or not.\n",
    "# Note : Pangrams are words or sentences containing every letter of the alphabet at least once.\n",
    "# For example : \"The quick brown fox jumps over the lazy dog\"\n",
    "\n",
    "import string\n",
    "\n",
    "def ispangram(str1, alphabet=string.ascii_lowercase):  \n",
    "    alphaset = set(alphabet)  \n",
    "    return alphaset <= set(str1.lower())\n",
    "\n",
    "ispangram(\"the quick brown fox jumps over the lazy dog\")"
   ]
  },
  {
   "cell_type": "code",
   "execution_count": null,
   "metadata": {},
   "outputs": [],
   "source": []
  }
 ],
 "metadata": {
  "kernelspec": {
   "display_name": "Python 3",
   "language": "python",
   "name": "python3"
  },
  "language_info": {
   "codemirror_mode": {
    "name": "ipython",
    "version": 3
   },
   "file_extension": ".py",
   "mimetype": "text/x-python",
   "name": "python",
   "nbconvert_exporter": "python",
   "pygments_lexer": "ipython3",
   "version": "3.6.4"
  }
 },
 "nbformat": 4,
 "nbformat_minor": 2
}
