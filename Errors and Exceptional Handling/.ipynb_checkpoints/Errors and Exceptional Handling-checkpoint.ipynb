{
 "cells": [
  {
   "cell_type": "markdown",
   "metadata": {},
   "source": [
    "## try and except\n",
    "#### The basic terminology and syntax used to handle errors in Python are the try and except statements. The code which can cause an exception to occur is put in the try block and the handling of the exception is then implemented in the except block of code. The syntax follows:\n",
    "\n",
    "#### try: this is the block of code to be attempted(may lead to an error)\n",
    "#### except: Block of code will execute in case there is an error in try block\n",
    "#### finally : a final block of code to be executed, regardless of an error  \n",
    "#### \n",
    "#### We can also just check for any exception with just using except: To get a better understanding of all this let's check out an #### example: We will look at some code that opens and writes a file:"
   ]
  },
  {
   "cell_type": "code",
   "execution_count": 1,
   "metadata": {},
   "outputs": [],
   "source": [
    "def add(n1,n2):\n",
    "    print(n1+n2)"
   ]
  },
  {
   "cell_type": "code",
   "execution_count": 2,
   "metadata": {},
   "outputs": [
    {
     "name": "stdout",
     "output_type": "stream",
     "text": [
      "40\n"
     ]
    }
   ],
   "source": [
    "add(10,30)"
   ]
  },
  {
   "cell_type": "code",
   "execution_count": 3,
   "metadata": {},
   "outputs": [
    {
     "name": "stdout",
     "output_type": "stream",
     "text": [
      "enter the number: 20\n"
     ]
    }
   ],
   "source": [
    "number1 = 10\n",
    "number2 = input(\"enter the number: \")"
   ]
  },
  {
   "cell_type": "code",
   "execution_count": 5,
   "metadata": {},
   "outputs": [
    {
     "ename": "TypeError",
     "evalue": "unsupported operand type(s) for +: 'int' and 'str'",
     "output_type": "error",
     "traceback": [
      "\u001b[1;31m---------------------------------------------------------------------------\u001b[0m",
      "\u001b[1;31mTypeError\u001b[0m                                 Traceback (most recent call last)",
      "\u001b[1;32m<ipython-input-5-41142f45e113>\u001b[0m in \u001b[0;36m<module>\u001b[1;34m()\u001b[0m\n\u001b[0;32m      1\u001b[0m \u001b[1;31m# now if we call add function with number1 and number2 as arguments, it will throw an error because number2 is a string type\u001b[0m\u001b[1;33m\u001b[0m\u001b[1;33m\u001b[0m\u001b[0m\n\u001b[1;32m----> 2\u001b[1;33m \u001b[0madd\u001b[0m\u001b[1;33m(\u001b[0m\u001b[0mnumber1\u001b[0m\u001b[1;33m,\u001b[0m\u001b[0mnumber2\u001b[0m\u001b[1;33m)\u001b[0m\u001b[1;33m\u001b[0m\u001b[0m\n\u001b[0m\u001b[0;32m      3\u001b[0m \u001b[1;33m\u001b[0m\u001b[0m\n\u001b[0;32m      4\u001b[0m \u001b[1;31m# even if we write a print statement if will not be executed because of the error in the fucntion above\u001b[0m\u001b[1;33m\u001b[0m\u001b[1;33m\u001b[0m\u001b[0m\n\u001b[0;32m      5\u001b[0m \u001b[0mprint\u001b[0m\u001b[1;33m(\u001b[0m\u001b[1;34m\"say hi kitty\"\u001b[0m\u001b[1;33m)\u001b[0m\u001b[1;33m\u001b[0m\u001b[0m\n",
      "\u001b[1;32m<ipython-input-1-48bddae7e371>\u001b[0m in \u001b[0;36madd\u001b[1;34m(n1, n2)\u001b[0m\n\u001b[0;32m      1\u001b[0m \u001b[1;32mdef\u001b[0m \u001b[0madd\u001b[0m\u001b[1;33m(\u001b[0m\u001b[0mn1\u001b[0m\u001b[1;33m,\u001b[0m\u001b[0mn2\u001b[0m\u001b[1;33m)\u001b[0m\u001b[1;33m:\u001b[0m\u001b[1;33m\u001b[0m\u001b[0m\n\u001b[1;32m----> 2\u001b[1;33m     \u001b[0mprint\u001b[0m\u001b[1;33m(\u001b[0m\u001b[0mn1\u001b[0m\u001b[1;33m+\u001b[0m\u001b[0mn2\u001b[0m\u001b[1;33m)\u001b[0m\u001b[1;33m\u001b[0m\u001b[0m\n\u001b[0m",
      "\u001b[1;31mTypeError\u001b[0m: unsupported operand type(s) for +: 'int' and 'str'"
     ]
    }
   ],
   "source": [
    "# now if we call add function with number1 and number2 as arguments, it will throw an error because number2 is a string type\n",
    "add(number1,number2)\n",
    "\n",
    "# even if we write a print statement if will not be executed because of the error in the fucntion above\n",
    "print(\"say hi kitty\")"
   ]
  },
  {
   "cell_type": "code",
   "execution_count": 8,
   "metadata": {},
   "outputs": [
    {
     "name": "stdout",
     "output_type": "stream",
     "text": [
      "the above try block does not run , so this will be printed\n"
     ]
    }
   ],
   "source": [
    "try:\n",
    "#     want to attempt this code\n",
    "#     may have an error\n",
    "    result = 10+'10'\n",
    "# because of error in the try block except will be executed    \n",
    "except:\n",
    "    print(\"the above try block does not run , so this will be printed\")\n",
    "else:\n",
    "    print(\"add went well\")\n",
    "    print(result)"
   ]
  },
  {
   "cell_type": "code",
   "execution_count": 9,
   "metadata": {},
   "outputs": [
    {
     "name": "stdout",
     "output_type": "stream",
     "text": [
      "add went well\n",
      "20\n"
     ]
    }
   ],
   "source": [
    "try:\n",
    "#     want to attempt this code\n",
    "#     may have an error\n",
    "    result = 10+10\n",
    "# because of error in the try block except will be executed    \n",
    "except:\n",
    "    print(\"the above try block does not run , so this will be printed\")\n",
    "else:\n",
    "    print(\"add went well\")\n",
    "    print(result)\n"
   ]
  },
  {
   "cell_type": "code",
   "execution_count": null,
   "metadata": {},
   "outputs": [],
   "source": []
  },
  {
   "cell_type": "code",
   "execution_count": null,
   "metadata": {},
   "outputs": [],
   "source": []
  },
  {
   "cell_type": "code",
   "execution_count": null,
   "metadata": {},
   "outputs": [],
   "source": []
  },
  {
   "cell_type": "code",
   "execution_count": null,
   "metadata": {},
   "outputs": [],
   "source": []
  },
  {
   "cell_type": "code",
   "execution_count": 13,
   "metadata": {},
   "outputs": [
    {
     "name": "stdout",
     "output_type": "stream",
     "text": [
      "I always run no matter what\n"
     ]
    }
   ],
   "source": [
    "try:\n",
    "    f = open(\"the_file\",\"w\")\n",
    "    f.write(\"write something\")\n",
    "except TypeError:\n",
    "    print(\"there was a type error\")\n",
    "\n",
    "# This exception is raised when a system function returns a system-related error, \n",
    "# including I/O failures such as “file not found” or “disk full” \n",
    "# (not for illegal argument types or other incidental errors).    \n",
    "except OSError:\n",
    "    print(\"you have an OSError\")\n",
    "finally:\n",
    "    print(\"I always run no matter what\")"
   ]
  },
  {
   "cell_type": "code",
   "execution_count": 15,
   "metadata": {},
   "outputs": [
    {
     "name": "stdout",
     "output_type": "stream",
     "text": [
      "you have an OSError\n",
      "I always run no matter what\n"
     ]
    }
   ],
   "source": [
    "# now try the same code with open file for reading only\n",
    "# and using f.write after it, the output will print from except oserror.\n",
    "try:\n",
    "    f = open(\"the_file\",\"r\")\n",
    "    f.write(\"write something\")\n",
    "except TypeError:\n",
    "    print(\"there was a type error\")\n",
    "\n",
    "# This exception is raised when a system function returns a system-related error, \n",
    "# including I/O failures such as “file not found” or “disk full” \n",
    "# (not for illegal argument types or other incidental errors).    \n",
    "except OSError:\n",
    "    print(\"you have an OSError\")\n",
    "finally:\n",
    "    print(\"I always run no matter what\")"
   ]
  },
  {
   "cell_type": "code",
   "execution_count": 19,
   "metadata": {},
   "outputs": [
    {
     "name": "stdout",
     "output_type": "stream",
     "text": [
      "enter an interger: mk\n",
      "this is not a number, sorry\n",
      "the end of try/except\n"
     ]
    }
   ],
   "source": [
    "def ask_for_int():\n",
    "    try:\n",
    "        number = int(input(\"enter an interger: \"))\n",
    "    except:\n",
    "        print(\"this is not a number, sorry\")\n",
    "    finally:\n",
    "        print(\"the end of try/except\")\n",
    "\n",
    "\n",
    "ask_for_int()"
   ]
  },
  {
   "cell_type": "code",
   "execution_count": 21,
   "metadata": {},
   "outputs": [
    {
     "name": "stdout",
     "output_type": "stream",
     "text": [
      "enter an interger: 78\n",
      "Yes thank you!\n",
      "the end of try/except\n",
      "I will always run at the end\n"
     ]
    }
   ],
   "source": [
    "def ask_for_int():\n",
    "    while True:\n",
    "        try:\n",
    "            number = int(input(\"enter an interger: \"))\n",
    "        except:\n",
    "            print(\"this is not a number, sorry\")\n",
    "            continue\n",
    "        else:\n",
    "            print(\"Yes thank you!\")\n",
    "            break\n",
    "        finally:\n",
    "            print(\"the end of try/except\")\n",
    "            print(\"I will always run at the end\")\n",
    "\n",
    "\n",
    "ask_for_int()"
   ]
  },
  {
   "cell_type": "code",
   "execution_count": null,
   "metadata": {},
   "outputs": [],
   "source": []
  }
 ],
 "metadata": {
  "kernelspec": {
   "display_name": "Python 3",
   "language": "python",
   "name": "python3"
  },
  "language_info": {
   "codemirror_mode": {
    "name": "ipython",
    "version": 3
   },
   "file_extension": ".py",
   "mimetype": "text/x-python",
   "name": "python",
   "nbconvert_exporter": "python",
   "pygments_lexer": "ipython3",
   "version": "3.6.4"
  }
 },
 "nbformat": 4,
 "nbformat_minor": 2
}
