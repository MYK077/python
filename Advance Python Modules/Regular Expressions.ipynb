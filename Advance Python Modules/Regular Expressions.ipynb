{
 "cells": [
  {
   "cell_type": "markdown",
   "metadata": {},
   "source": [
    "### Regular Expressions\n",
    "###### Regular expressions are text-matching patterns described with a formal syntax. You'll often hear regular expressions referred to as 'regex' or 'regexp' in conversation. Regular expressions can include a variety of rules, from finding repetition, to text-matching, and much more. As you advance in Python you'll see that a lot of your parsing problems can be solved with regular expressions (they're also a common interview question!).\n",
    "\n",
    "###### If you're familiar with Perl, you'll notice that the syntax for regular expressions are very similar in Python. We will be using the re module with Python for this lecture.\n",
    "\n",
    "###### Let's get started!\n",
    "\n",
    "###### Searching for Patterns in Text\n",
    "###### One of the most common uses for the re module is for finding patterns in text. Let's do a quick example of using the search method in the re module to find some text:"
   ]
  },
  {
   "cell_type": "code",
   "execution_count": 4,
   "metadata": {},
   "outputs": [
    {
     "name": "stdout",
     "output_type": "stream",
     "text": [
      "searching for 'term1' in: \n",
      " 'hello everybody whats hapnin, i have term1 and term2' \n",
      "match was found\n",
      "searching for 'term2' in: \n",
      " 'hello everybody whats hapnin, i have term1 and term2' \n",
      "match was found\n"
     ]
    }
   ],
   "source": [
    "import re\n",
    "\n",
    "patterns = ['term1','term2']\n",
    "\n",
    "text = \"hello everybody whats hapnin, i have term1 and term2\"\n",
    "\n",
    "for pattern in patterns:\n",
    "    print(\"searching for '%s' in: \\n '%s' \" %(pattern, text))\n",
    "    \n",
    "    if re.search(pattern,text):\n",
    "        print(\"match was found\")\n",
    "    else:\n",
    "        print(\"no match was found\")\n",
    "    \n"
   ]
  },
  {
   "cell_type": "code",
   "execution_count": 5,
   "metadata": {},
   "outputs": [
    {
     "name": "stdout",
     "output_type": "stream",
     "text": [
      "search for term1 in text: 'hello everybody whats hapnin, i have term1 and term2'\n",
      "match found\n",
      "search for term2 in text: 'hello everybody whats hapnin, i have term1 and term2'\n",
      "match found\n"
     ]
    }
   ],
   "source": [
    "for pattern in patterns:\n",
    "    print(f\"search for {pattern} in text: '{text}'\")\n",
    "    \n",
    "    if re.search(pattern,text):\n",
    "        print('match found')\n",
    "    else:\n",
    "        print('match not found')"
   ]
  },
  {
   "cell_type": "code",
   "execution_count": null,
   "metadata": {},
   "outputs": [],
   "source": []
  },
  {
   "cell_type": "code",
   "execution_count": 7,
   "metadata": {},
   "outputs": [],
   "source": [
    "match = re.search(patterns[0],text)"
   ]
  },
  {
   "cell_type": "code",
   "execution_count": 8,
   "metadata": {},
   "outputs": [
    {
     "data": {
      "text/plain": [
       "_sre.SRE_Match"
      ]
     },
     "execution_count": 8,
     "metadata": {},
     "output_type": "execute_result"
    }
   ],
   "source": [
    "type(match)"
   ]
  },
  {
   "cell_type": "code",
   "execution_count": 8,
   "metadata": {},
   "outputs": [
    {
     "data": {
      "text/plain": [
       "37"
      ]
     },
     "execution_count": 8,
     "metadata": {},
     "output_type": "execute_result"
    }
   ],
   "source": [
    "# to know the starting index of match\n",
    "match.start()"
   ]
  },
  {
   "cell_type": "code",
   "execution_count": 9,
   "metadata": {},
   "outputs": [
    {
     "data": {
      "text/plain": [
       "42"
      ]
     },
     "execution_count": 9,
     "metadata": {},
     "output_type": "execute_result"
    }
   ],
   "source": [
    "#to know the ending index of match\n",
    "match.end()"
   ]
  },
  {
   "cell_type": "code",
   "execution_count": 8,
   "metadata": {},
   "outputs": [
    {
     "data": {
      "text/plain": [
       "['my email address is abraham', 'gmail.com']"
      ]
     },
     "execution_count": 8,
     "metadata": {},
     "output_type": "execute_result"
    }
   ],
   "source": [
    "# now we will see how we can split with regular expressions\n",
    "split_term = \"@\"\n",
    "\n",
    "text = \"my email address is abraham@gmail.com\"\n",
    "\n",
    "re.split(split_term,text)"
   ]
  },
  {
   "cell_type": "code",
   "execution_count": 9,
   "metadata": {},
   "outputs": [
    {
     "data": {
      "text/plain": [
       "['my email address is abraham', 'gmail.com']"
      ]
     },
     "execution_count": 9,
     "metadata": {},
     "output_type": "execute_result"
    }
   ],
   "source": [
    "# re.split is similar to split method like\n",
    "text.split(' ') \n",
    "text.split(split_term)"
   ]
  },
  {
   "cell_type": "code",
   "execution_count": 12,
   "metadata": {},
   "outputs": [
    {
     "data": {
      "text/plain": [
       "['match', 'match']"
      ]
     },
     "execution_count": 12,
     "metadata": {},
     "output_type": "execute_result"
    }
   ],
   "source": [
    "# Returns a list of all matches\n",
    "# Finding all instances of a pattern\n",
    "# You can use re.findall() to find all the instances of a pattern in a string. For example:\n",
    "re.findall('match','test phrase match is in middle of the match')"
   ]
  },
  {
   "cell_type": "code",
   "execution_count": 15,
   "metadata": {},
   "outputs": [],
   "source": [
    "def multi_refind(pattern,text):\n",
    "    print (f\"find the pattern of {pattern} in the {text} \")\n",
    "    \n",
    "    for x in pattern:\n",
    "        print(re.findall(x,text)) \n",
    "        "
   ]
  },
  {
   "cell_type": "code",
   "execution_count": 16,
   "metadata": {},
   "outputs": [
    {
     "name": "stdout",
     "output_type": "stream",
     "text": [
      "find the pattern of match in the match is a match \n",
      "['m', 'm']\n",
      "['a', 'a', 'a']\n",
      "['t', 't']\n",
      "['c', 'c']\n",
      "['h', 'h']\n"
     ]
    }
   ],
   "source": [
    "multi_refind('match' , 'match is a match')"
   ]
  },
  {
   "cell_type": "code",
   "execution_count": 20,
   "metadata": {},
   "outputs": [],
   "source": [
    "def multi_re_find(patterns,phrase):\n",
    "    '''\n",
    "    Takes in a list of regex patterns\n",
    "    Prints a list of all matches\n",
    "    '''\n",
    "    for pattern in patterns:\n",
    "        print('Searching the phrase using the re check: %s' %(pattern))\n",
    "        print(re.findall(pattern,phrase))\n",
    "        print('\\n')"
   ]
  },
  {
   "cell_type": "code",
   "execution_count": 21,
   "metadata": {},
   "outputs": [
    {
     "name": "stdout",
     "output_type": "stream",
     "text": [
      "Searching the phrase using the re check: h\n",
      "['h', 'h']\n",
      "\n",
      "\n",
      "Searching the phrase using the re check: e\n",
      "['e']\n",
      "\n",
      "\n",
      "Searching the phrase using the re check: l\n",
      "['l', 'l']\n",
      "\n",
      "\n",
      "Searching the phrase using the re check: l\n",
      "['l', 'l']\n",
      "\n",
      "\n",
      "Searching the phrase using the re check: o\n",
      "['o']\n",
      "\n",
      "\n",
      "Searching the phrase using the re check:  \n",
      "[' ', ' ', ' ', ' ']\n",
      "\n",
      "\n",
      "Searching the phrase using the re check: w\n",
      "['w']\n",
      "\n",
      "\n",
      "Searching the phrase using the re check: a\n",
      "['a', 'a', 'a']\n",
      "\n",
      "\n",
      "Searching the phrase using the re check: t\n",
      "['t', 't']\n",
      "\n",
      "\n",
      "Searching the phrase using the re check: s\n",
      "['s']\n",
      "\n",
      "\n",
      "Searching the phrase using the re check:  \n",
      "[' ', ' ', ' ', ' ']\n",
      "\n",
      "\n",
      "Searching the phrase using the re check: u\n",
      "['u']\n",
      "\n",
      "\n",
      "Searching the phrase using the re check: p\n",
      "['p']\n",
      "\n",
      "\n"
     ]
    }
   ],
   "source": [
    "multi_re_find('hello wats up', 'hello bharat wats up myk')"
   ]
  },
  {
   "cell_type": "markdown",
   "metadata": {},
   "source": [
    "### Repetition Syntax\n",
    "##### There are five ways to express repetition in a pattern:\n",
    "\n",
    "##### A pattern followed by the meta-character * is repeated zero or more times.\n",
    "##### Replace the * with + and the pattern must appear at least once.\n",
    "##### Using ? means the pattern appears zero or one time.\n",
    "##### For a specific number of occurrences, use {m} after the pattern, where m is replaced with the number of times the pattern should repeat.\n",
    "##### Use {m,n} where m is the minimum number of repetitions and n is the maximum. Leaving out n {m,} means the value appears at least m times, with no maximum.\n",
    "##### Now we will see an example of each of these using our multi_re_find function:"
   ]
  },
  {
   "cell_type": "code",
   "execution_count": 22,
   "metadata": {},
   "outputs": [
    {
     "name": "stdout",
     "output_type": "stream",
     "text": [
      "Searching the phrase using the re check: sd*\n",
      "['sd', 'sd', 's', 's', 'sddd', 'sddd', 'sddd', 'sd', 's', 's', 's', 's', 's', 's', 'sdddd']\n",
      "\n",
      "\n",
      "Searching the phrase using the re check: sd+\n",
      "['sd', 'sd', 'sddd', 'sddd', 'sddd', 'sd', 'sdddd']\n",
      "\n",
      "\n",
      "Searching the phrase using the re check: sd?\n",
      "['sd', 'sd', 's', 's', 'sd', 'sd', 'sd', 'sd', 's', 's', 's', 's', 's', 's', 'sd']\n",
      "\n",
      "\n",
      "Searching the phrase using the re check: sd{3}\n",
      "['sddd', 'sddd', 'sddd', 'sddd']\n",
      "\n",
      "\n",
      "Searching the phrase using the re check: sd{2,3}\n",
      "['sddd', 'sddd', 'sddd', 'sddd']\n",
      "\n",
      "\n"
     ]
    }
   ],
   "source": [
    "test_phrase = 'sdsd..sssddd...sdddsddd...dsds...dsssss...sdddd'\n",
    "\n",
    "test_patterns = [ 'sd*',     # s followed by zero or more d's\n",
    "                'sd+',          # s followed by one or more d's\n",
    "                'sd?',          # s followed by zero or one d's\n",
    "                'sd{3}',        # s followed by three d's\n",
    "                'sd{2,3}',      # s followed by two to three d's\n",
    "                ]\n",
    "\n",
    "multi_re_find(test_patterns,test_phrase)"
   ]
  },
  {
   "cell_type": "markdown",
   "metadata": {},
   "source": [
    "### Character Sets\n",
    "###### Character sets are used when you wish to match any one of a group of characters at a point in the input.\n",
    "###### Brackets are used to construct character set inputs. \n",
    "###### For example: the input [ab] searches for occurrences of either a or b. Let's see some examples:"
   ]
  },
  {
   "cell_type": "code",
   "execution_count": 25,
   "metadata": {},
   "outputs": [
    {
     "name": "stdout",
     "output_type": "stream",
     "text": [
      "Searching the phrase using the re check: [sd]\n",
      "['s', 'd', 's', 'd', 's', 's', 's', 'd', 'd', 'd', 's', 'd', 'd', 'd', 's', 'd', 'd', 'd', 'd', 's', 'd', 's', 'd', 's', 's', 's', 's', 's', 's', 'd', 'd', 'd', 'd']\n",
      "\n",
      "\n",
      "Searching the phrase using the re check: s[sd]+\n",
      "['sdsd', 'sssddd', 'sdddsddd', 'sds', 'sssss', 'sdddd']\n",
      "\n",
      "\n"
     ]
    }
   ],
   "source": [
    "test_phrase = 'sdsd..sssddd...sdddsddd...dsds...dsssss...sdddd'\n",
    "\n",
    "# [sd]: either s or d , s[sd]+: s followed by one or more s or d\n",
    "test_patterns = ['[sd]', 's[sd]+']\n",
    "\n",
    "multi_re_find(test_patterns,test_phrase)\n",
    "\n",
    "# It makes sense that the first input [sd] returns every instance of s or d. Also, the second \n",
    "# input s[sd]+ returns any full strings that begin with an s and continue with s or d characters until another character is reached."
   ]
  },
  {
   "cell_type": "markdown",
   "metadata": {},
   "source": [
    "### Exclusion\n",
    "###### We can use ^ to exclude terms by incorporating it into the bracket syntax notation.\n",
    "###### For example: [^...] will match any single character not in the brackets. Let's see some examples:\n",
    "###### Use [^!.? ] to check for matches that are not a !,.,?, or space.\n",
    "###### Add a + to check that the match appears at least once. This basically translates into finding the words    "
   ]
  },
  {
   "cell_type": "code",
   "execution_count": 33,
   "metadata": {},
   "outputs": [
    {
     "data": {
      "text/plain": [
       "['This',\n",
       " 'is',\n",
       " 'a',\n",
       " 'string',\n",
       " 'But',\n",
       " 'it',\n",
       " 'has',\n",
       " 'punctuation',\n",
       " 'How',\n",
       " 'can',\n",
       " 'we',\n",
       " 'remove',\n",
       " 'it']"
      ]
     },
     "execution_count": 33,
     "metadata": {},
     "output_type": "execute_result"
    }
   ],
   "source": [
    "test_phrase = 'This is a string! But it has punctuation. How can we remove it?'\n",
    "\n",
    "test_pattern = '[^?.! ]+'\n",
    "\n",
    "re.findall(test_pattern,test_phrase)"
   ]
  },
  {
   "cell_type": "markdown",
   "metadata": {},
   "source": [
    "### Character Ranges\n",
    "###### As character sets grow larger, typing every character that should (or should not) match could become very tedious. A more compact format using character ranges lets you define a character set to include all of the contiguous characters between a start and stop point. The format used is [start-end].\n",
    "\n",
    "###### Common use cases are to search for a specific range of letters in the alphabet. For instance, [a-f] would return matches with any occurrence of letters between a and f.\n",
    "\n",
    "###### Let's walk through some examples:"
   ]
  },
  {
   "cell_type": "code",
   "execution_count": 37,
   "metadata": {},
   "outputs": [
    {
     "name": "stdout",
     "output_type": "stream",
     "text": [
      "Searching the phrase using the re check: [a-z]+\n",
      "['his', 'is', 'an', 'example', 'sentence', 'ets', 'see', 'if', 'we', 'can', 'find', 'the', 'letters', 'in', 'it']\n",
      "\n",
      "\n",
      "Searching the phrase using the re check: [A-Z]+\n",
      "['T', 'L']\n",
      "\n",
      "\n",
      "Searching the phrase using the re check: [a-zA-Z]+\n",
      "['This', 'is', 'an', 'example', 'sentence', 'Lets', 'see', 'if', 'we', 'can', 'find', 'the', 'letters', 'in', 'it']\n",
      "\n",
      "\n",
      "Searching the phrase using the re check: [A-Z][a-z]+\n",
      "['This', 'Lets']\n",
      "\n",
      "\n"
     ]
    }
   ],
   "source": [
    "test_phrase = \"This is an example sentence, Lets see if we can find the letters in it\"\n",
    "\n",
    "find_patterns = [\n",
    "    # sequences of lower case letters\n",
    "    '[a-z]+',\n",
    "    #sequences of upper case letters     \n",
    "    '[A-Z]+',\n",
    "    #sequences of lowercase or uppercase letter     \n",
    "    '[a-zA-Z]+',\n",
    "    #one upper case letter followed by lower case letters\n",
    "    '[A-Z][a-z]+'\n",
    "]\n",
    "\n",
    "multi_re_find(find_patterns,test_phrase)"
   ]
  },
  {
   "cell_type": "markdown",
   "metadata": {},
   "source": [
    "#### Escape Codes\n",
    "###### You can use special escape codes to find specific types of patterns in your data, such as digits, non-digits, whitespace, and more. For example:\n",
    "\n",
    "#### Code:\t    Meaning\n",
    "##### \\d:\t         a digit\n",
    "##### \\D:\t        a non-digit\n",
    "##### \\s:\t         whitespace (tab, space, newline, etc.)\n",
    "##### \\S:\t        non-whitespace\n",
    "##### \\w:\t        alphanumeric\n",
    "##### \\W:\t       non-alphanumeric\n",
    "\n",
    "\n",
    "\n",
    "###### Escapes are indicated by prefixing the character with a backslash \\. Unfortunately, a backslash must itself be escaped in normal Python strings, and that results in expressions that are difficult to read. Using raw strings, created by prefixing the literal value with r, eliminates this problem and maintains readability.\n",
    "\n",
    "###### Personally, I think this use of r to escape a backslash is probably one of the things that block someone who is not familiar with regex in Python from being able to read regex code at first. Hopefully after seeing these examples this syntax will become clear."
   ]
  },
  {
   "cell_type": "code",
   "execution_count": 49,
   "metadata": {},
   "outputs": [
    {
     "name": "stdout",
     "output_type": "stream",
     "text": [
      "Searching the phrase using the re check: \\d+\n",
      "['123467454']\n",
      "\n",
      "\n",
      "Searching the phrase using the re check: \\D+\n",
      "['This is a string with some numbers ', ' and some letters hcthctycty and #hashtag']\n",
      "\n",
      "\n",
      "Searching the phrase using the re check: \\s+\n",
      "[' ', ' ', ' ', ' ', ' ', ' ', ' ', ' ', ' ', ' ', ' ', ' ', ' ']\n",
      "\n",
      "\n",
      "Searching the phrase using the re check: \\S+\n",
      "['This', 'is', 'a', 'string', 'with', 'some', 'numbers', '123467454', 'and', 'some', 'letters', 'hcthctycty', 'and', '#hashtag']\n",
      "\n",
      "\n",
      "Searching the phrase using the re check: \\w+\n",
      "['This', 'is', 'a', 'string', 'with', 'some', 'numbers', '123467454', 'and', 'some', 'letters', 'hcthctycty', 'and', 'hashtag']\n",
      "\n",
      "\n",
      "Searching the phrase using the re check: \\W+\n",
      "[' ', ' ', ' ', ' ', ' ', ' ', ' ', ' ', ' ', ' ', ' ', ' ', ' #']\n",
      "\n",
      "\n"
     ]
    }
   ],
   "source": [
    "test_phrase = 'This is a string with some numbers 123467454 and some letters hcthctycty and #hashtag'\n",
    "\n",
    "test_pattern = [\n",
    "#     sequence of digits\n",
    "    '\\d+',\n",
    "#     sequence of non-digits\n",
    "    '\\D+',\n",
    "#     sequence of whitespaces\n",
    "    '\\s+',\n",
    "#    sequence of non-whitespaces\n",
    "    '\\S+',\n",
    "#    aplhanumneric characters\n",
    "    '\\w+',\n",
    "#    non-alphanumeric characters\n",
    "    '\\W+'\n",
    "]\n",
    "\n",
    "multi_re_find(test_pattern, test_phrase)"
   ]
  },
  {
   "cell_type": "markdown",
   "metadata": {},
   "source": [
    "#### Conclusion\n",
    "###### You should now have a solid understanding of how to use the regular expression module in Python. There are a ton of more special character instances, but it would be unreasonable to go through every single use case. Instead take a look at the full documentation if you ever need to look up a particular pattern.\n",
    "\n",
    "You can also check out the nice summary tables at this source.\n",
    "\n",
    "Good job!"
   ]
  },
  {
   "cell_type": "code",
   "execution_count": null,
   "metadata": {},
   "outputs": [],
   "source": []
  }
 ],
 "metadata": {
  "kernelspec": {
   "display_name": "Python 3",
   "language": "python",
   "name": "python3"
  },
  "language_info": {
   "codemirror_mode": {
    "name": "ipython",
    "version": 3
   },
   "file_extension": ".py",
   "mimetype": "text/x-python",
   "name": "python",
   "nbconvert_exporter": "python",
   "pygments_lexer": "ipython3",
   "version": "3.6.4"
  }
 },
 "nbformat": 4,
 "nbformat_minor": 2
}
