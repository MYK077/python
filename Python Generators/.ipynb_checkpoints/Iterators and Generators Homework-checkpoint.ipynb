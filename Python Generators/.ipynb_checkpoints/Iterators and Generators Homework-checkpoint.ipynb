{
 "cells": [
  {
   "cell_type": "code",
   "execution_count": 1,
   "metadata": {},
   "outputs": [],
   "source": [
    "# Iterators and Generators Homework\n",
    "# Problem 1\n",
    "# Create a generator that generates the squares of numbers up to some number N.\n",
    "def gensquares(N):\n",
    "    for x in range(N):\n",
    "        yield x**2\n"
   ]
  },
  {
   "cell_type": "code",
   "execution_count": 2,
   "metadata": {},
   "outputs": [
    {
     "name": "stdout",
     "output_type": "stream",
     "text": [
      "0\n",
      "1\n",
      "4\n",
      "9\n",
      "16\n",
      "25\n",
      "36\n",
      "49\n",
      "64\n"
     ]
    }
   ],
   "source": [
    "for n in gensquares(9):\n",
    "    print(n)"
   ]
  },
  {
   "cell_type": "code",
   "execution_count": 3,
   "metadata": {},
   "outputs": [
    {
     "data": {
      "text/plain": [
       "2"
      ]
     },
     "execution_count": 3,
     "metadata": {},
     "output_type": "execute_result"
    }
   ],
   "source": [
    "# Problem 2\n",
    "# Create a generator that yields \"n\" random numbers between a low and high number (that are inputs). \n",
    "# Note: Use the random library. For example:\n",
    "import random\n",
    "random.randint(1,10)"
   ]
  },
  {
   "cell_type": "code",
   "execution_count": 11,
   "metadata": {},
   "outputs": [],
   "source": [
    "import random\n",
    "def rand_num(low,high,n):\n",
    "    \n",
    "    for n in range(n):\n",
    "        n = random.randint(low,high)\n",
    "        yield n\n",
    "    "
   ]
  },
  {
   "cell_type": "code",
   "execution_count": 12,
   "metadata": {},
   "outputs": [
    {
     "name": "stdout",
     "output_type": "stream",
     "text": [
      "1\n",
      "6\n",
      "2\n",
      "10\n",
      "5\n",
      "9\n",
      "8\n",
      "2\n",
      "2\n",
      "4\n",
      "4\n",
      "2\n"
     ]
    }
   ],
   "source": [
    "for num in rand_num(1,10,12):\n",
    "    print(num)"
   ]
  },
  {
   "cell_type": "code",
   "execution_count": 13,
   "metadata": {},
   "outputs": [
    {
     "name": "stdout",
     "output_type": "stream",
     "text": [
      "h\n"
     ]
    }
   ],
   "source": [
    "# Problem 3\n",
    "# Use the iter() function to convert the string below into an iterator:\n",
    "s = 'hello'\n",
    "string = iter(s)\n",
    "print(next(string))"
   ]
  },
  {
   "cell_type": "markdown",
   "metadata": {},
   "source": [
    "####  Ques:Explain a use case for a generator using a yield statement where you would not want to use a normal function \n",
    "#### with a return statement.\n",
    "\n",
    "####  Ans:If the output has the potential of taking up a large amount of memory ###and you only intend to iterate through it,\n",
    "#### you would want to use a generator. (Multiple answers are acceptable here!)"
   ]
  },
  {
   "cell_type": "code",
   "execution_count": 29,
   "metadata": {},
   "outputs": [
    {
     "name": "stdout",
     "output_type": "stream",
     "text": [
      "4\n",
      "5\n"
     ]
    }
   ],
   "source": [
    "# Can you explain what gencomp is in the code below? (Note: We never covered this in lecture!)\n",
    "my_list = [1,2,3,4,5]\n",
    "\n",
    "# Ans: below is the list comprehension, we can change the parenthesis to square brackets to change it \n",
    "# to generator comprehension, if we dont want the whole list to be stored in memory \n",
    "\n",
    "# HINT: google generator comprehension\n",
    "gencomp = (item for item in my_list if item > 3)\n",
    "\n",
    "for item in gencomp:\n",
    "    print(item)"
   ]
  },
  {
   "cell_type": "code",
   "execution_count": null,
   "metadata": {},
   "outputs": [],
   "source": []
  },
  {
   "cell_type": "code",
   "execution_count": null,
   "metadata": {},
   "outputs": [],
   "source": []
  }
 ],
 "metadata": {
  "kernelspec": {
   "display_name": "Python 3",
   "language": "python",
   "name": "python3"
  },
  "language_info": {
   "codemirror_mode": {
    "name": "ipython",
    "version": 3
   },
   "file_extension": ".py",
   "mimetype": "text/x-python",
   "name": "python",
   "nbconvert_exporter": "python",
   "pygments_lexer": "ipython3",
   "version": "3.6.4"
  }
 },
 "nbformat": 4,
 "nbformat_minor": 2
}
