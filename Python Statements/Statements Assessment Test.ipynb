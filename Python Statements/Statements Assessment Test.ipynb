{
 "cells": [
  {
   "cell_type": "code",
   "execution_count": 26,
   "metadata": {},
   "outputs": [
    {
     "name": "stdout",
     "output_type": "stream",
     "text": [
      "start\n",
      "s\n",
      "sentence\n"
     ]
    }
   ],
   "source": [
    "#Use for, .split(), and if to create a Statement that will print out words that start with 's':\n",
    "\n",
    "st = 'Print only the words that start with s in this sentence'\n",
    "new_st = st.split(' ')\n",
    "for x in new_st:\n",
    "    if x[0] == \"s\":\n",
    "        print(x)"
   ]
  },
  {
   "cell_type": "code",
   "execution_count": null,
   "metadata": {},
   "outputs": [],
   "source": [
    "\n",
    "    \n"
   ]
  },
  {
   "cell_type": "code",
   "execution_count": 9,
   "metadata": {},
   "outputs": [
    {
     "name": "stdout",
     "output_type": "stream",
     "text": [
      "2\n",
      "4\n",
      "6\n",
      "8\n",
      "10\n"
     ]
    }
   ],
   "source": [
    "# Use range() to print all the even numbers from 0 to 10.\n",
    "for x in range(1,11):\n",
    "        if x%2 == 0:\n",
    "            print(x)\n"
   ]
  },
  {
   "cell_type": "code",
   "execution_count": 11,
   "metadata": {},
   "outputs": [
    {
     "data": {
      "text/plain": [
       "[3, 6, 9, 12, 15, 18, 21, 24, 27, 30, 33, 36, 39, 42, 45, 48]"
      ]
     },
     "execution_count": 11,
     "metadata": {},
     "output_type": "execute_result"
    }
   ],
   "source": [
    "# Use a List Comprehension to create a list of all numbers between 1 and 50 that are divisible by 3.\n",
    "mylist=[x for x in range(1,51) if x%3 ==0]\n",
    "mylist"
   ]
  },
  {
   "cell_type": "code",
   "execution_count": 19,
   "metadata": {},
   "outputs": [
    {
     "name": "stdout",
     "output_type": "stream",
     "text": [
      "length of Print is not even\n",
      "length of every is not even\n",
      "word\n",
      "in\n",
      "this\n",
      "sentence\n",
      "that\n",
      "length of has is not even\n",
      "an\n",
      "even\n",
      "number\n",
      "of\n",
      "length of letters is not even\n"
     ]
    }
   ],
   "source": [
    "# Go through the string below and if the length of a word is even print \"even!\"\n",
    "\n",
    "st  =  'Print every word in this sentence that has an even number of letters'\n",
    "newst = st.split(' ')\n",
    "for word in newst:\n",
    "    if len(word)%2 == 0 :\n",
    "        print(word)\n",
    "    else: \n",
    "        print(f'length of {word} is not even')\n"
   ]
  },
  {
   "cell_type": "code",
   "execution_count": 22,
   "metadata": {},
   "outputs": [
    {
     "name": "stdout",
     "output_type": "stream",
     "text": [
      "3Fizz\n",
      "5Buzz\n",
      "6Fizz\n",
      "9Fizz\n",
      "10Buzz\n",
      "12Fizz\n",
      "15 is Fizzbuzz\n",
      "18Fizz\n",
      "20Buzz\n",
      "21Fizz\n",
      "24Fizz\n",
      "25Buzz\n",
      "27Fizz\n",
      "30 is Fizzbuzz\n",
      "33Fizz\n",
      "35Buzz\n",
      "36Fizz\n",
      "39Fizz\n",
      "40Buzz\n",
      "42Fizz\n",
      "45 is Fizzbuzz\n",
      "48Fizz\n",
      "50Buzz\n",
      "51Fizz\n",
      "54Fizz\n",
      "55Buzz\n",
      "57Fizz\n",
      "60 is Fizzbuzz\n",
      "63Fizz\n",
      "65Buzz\n",
      "66Fizz\n",
      "69Fizz\n",
      "70Buzz\n",
      "72Fizz\n",
      "75 is Fizzbuzz\n",
      "78Fizz\n",
      "80Buzz\n",
      "81Fizz\n",
      "84Fizz\n",
      "85Buzz\n",
      "87Fizz\n",
      "90 is Fizzbuzz\n",
      "93Fizz\n",
      "95Buzz\n",
      "96Fizz\n",
      "99Fizz\n",
      "100Buzz\n"
     ]
    }
   ],
   "source": [
    "# Write a program that prints the integers from 1 to 100. \n",
    "# But for multiples of three print \"Fizz\" instead of the number, and for the multiples of five print \"Buzz\".\n",
    "# For numbers which are multiples of both three and five print \"FizzBuzz\".\n",
    "\n",
    "for num in range(1 ,101):\n",
    "    if num%5 == 0 and num%3 == 0:\n",
    "        print(f'{num} is Fizzbuzz')\n",
    "    elif num%3 == 0 :\n",
    "        print(f'{num}Fizz')\n",
    "    elif num%5 == 0 :\n",
    "        print(f'{num}Buzz')\n",
    "    \n"
   ]
  },
  {
   "cell_type": "code",
   "execution_count": 23,
   "metadata": {},
   "outputs": [
    {
     "name": "stdout",
     "output_type": "stream",
     "text": [
      "C\n",
      "a\n",
      "l\n",
      "o\n",
      "t\n",
      "f\n",
      "l\n",
      "o\n",
      "e\n",
      "w\n",
      "i\n",
      "t\n",
      "s\n"
     ]
    }
   ],
   "source": [
    "# Use List Comprehension to create a list of the first letters of every word in the string below:\n",
    "st = 'Create a list of the first letters of every word in this string'\n",
    "new_st = st.split(' ')\n",
    "\n",
    "for x in new_st:\n",
    "    print(x[0])\n",
    "    \n",
    "\n"
   ]
  },
  {
   "cell_type": "code",
   "execution_count": 25,
   "metadata": {},
   "outputs": [
    {
     "data": {
      "text/plain": [
       "['C', 'a', 'l', 'o', 't', 'f', 'l', 'o', 'e', 'w', 'i', 't', 's']"
      ]
     },
     "execution_count": 25,
     "metadata": {},
     "output_type": "execute_result"
    }
   ],
   "source": [
    "# Use List Comprehension to create a list of the first letters of every word in the string below:\n",
    "new_st = [x[0] for x in st.split(' ')]    \n",
    "new_st"
   ]
  },
  {
   "cell_type": "code",
   "execution_count": null,
   "metadata": {},
   "outputs": [],
   "source": []
  }
 ],
 "metadata": {
  "kernelspec": {
   "display_name": "Python 3",
   "language": "python",
   "name": "python3"
  },
  "language_info": {
   "codemirror_mode": {
    "name": "ipython",
    "version": 3
   },
   "file_extension": ".py",
   "mimetype": "text/x-python",
   "name": "python",
   "nbconvert_exporter": "python",
   "pygments_lexer": "ipython3",
   "version": "3.6.4"
  }
 },
 "nbformat": 4,
 "nbformat_minor": 2
}
