{
 "cells": [
  {
   "cell_type": "code",
   "execution_count": 2,
   "metadata": {},
   "outputs": [],
   "source": [
    "from IPython.display import clear_output\n",
    "\n",
    "def display_board(board):\n",
    "\n",
    "#Note that clear_output() will only work in jupyter. To clear the screen in other IDEs, consider: print('\\n'*100)  \n",
    "\n",
    "   \n",
    "    clear_output()\n",
    "    \n",
    "    print(board[1]+'|'+board[2]+'|'+board[3])\n",
    "    print('_|_|_')\n",
    "    print(board[4]+'|'+board[5]+'|'+board[6])\n",
    "    print('_|_|_')\n",
    "    print(board[7]+'|'+board[8]+'|'+board[9])\n",
    "    print(' | | ')\n",
    "        \n",
    "        \n",
    "    \n"
   ]
  },
  {
   "cell_type": "code",
   "execution_count": 3,
   "metadata": {},
   "outputs": [
    {
     "name": "stdout",
     "output_type": "stream",
     "text": [
      " | | \n",
      "_|_|_\n",
      " | | \n",
      "_|_|_\n",
      " | | \n",
      " | | \n"
     ]
    }
   ],
   "source": [
    "input_board = [' ']*10\n",
    "\n",
    "display_board(input_board)"
   ]
  },
  {
   "cell_type": "code",
   "execution_count": 4,
   "metadata": {},
   "outputs": [],
   "source": [
    "def player_input():\n",
    "    \n",
    "    '''\n",
    "    OUTPUT = (player 1 marker , player 2 marker)\n",
    "    \n",
    "    '''\n",
    "    marker = input('player1 please enter x or o: ').upper()\n",
    "    \n",
    "    while marker != 'X' and marker != 'O':\n",
    "        marker = input('player1 please enter x or o: ').upper()\n",
    "    \n",
    "#Assign player2 the opposite marker\n",
    "    \n",
    "    \n",
    "    if marker == 'X':\n",
    "        return ('X','O')\n",
    "    \n",
    "    else:\n",
    "        return ('O','X')\n",
    "    \n",
    "    "
   ]
  },
  {
   "cell_type": "code",
   "execution_count": 5,
   "metadata": {},
   "outputs": [
    {
     "name": "stdout",
     "output_type": "stream",
     "text": [
      "player1 please enter x or o: x\n"
     ]
    },
    {
     "data": {
      "text/plain": [
       "('X', 'O')"
      ]
     },
     "execution_count": 5,
     "metadata": {},
     "output_type": "execute_result"
    }
   ],
   "source": [
    "player_input()\n"
   ]
  },
  {
   "cell_type": "code",
   "execution_count": 6,
   "metadata": {},
   "outputs": [
    {
     "name": "stdout",
     "output_type": "stream",
     "text": [
      "player1 please enter x or o: x\n"
     ]
    }
   ],
   "source": [
    "player1_marker1, player2_marker = player_input()"
   ]
  },
  {
   "cell_type": "code",
   "execution_count": 7,
   "metadata": {},
   "outputs": [
    {
     "data": {
      "text/plain": [
       "'O'"
      ]
     },
     "execution_count": 7,
     "metadata": {},
     "output_type": "execute_result"
    }
   ],
   "source": [
    "player2_marker\n",
    "\n"
   ]
  },
  {
   "cell_type": "code",
   "execution_count": 18,
   "metadata": {},
   "outputs": [],
   "source": [
    "# write a function  that takes three arguments (boardlist,marker, position)\n",
    "def place_marker(boardlist,marker,position):\n",
    "    boardlist[position] = marker\n",
    "\n",
    "# place_marker(input_board,player1_marker1,)"
   ]
  },
  {
   "cell_type": "code",
   "execution_count": 9,
   "metadata": {},
   "outputs": [
    {
     "name": "stdout",
     "output_type": "stream",
     "text": [
      " | |X\n",
      "_|_|_\n",
      " | | \n",
      "_|_|_\n",
      " | | \n",
      " | | \n"
     ]
    }
   ],
   "source": [
    "#now run display board\n",
    "display_board(input_board)"
   ]
  },
  {
   "cell_type": "code",
   "execution_count": 10,
   "metadata": {},
   "outputs": [],
   "source": [
    "#write a win check function that checks wether the winner is X or O\n",
    "def win_check(board,mark):\n",
    "#   either all rows or columns or diagonals should have the same type  \n",
    "    return ((board[1] == board[2] == board[3] == mark) or \n",
    "            (board[4] == board[5] == board[6] == mark) or\n",
    "            (board[7] == board[8] == board[9] == mark) or\n",
    "            (board[1] == board[4] == board[7] == mark) or\n",
    "            (board[2] == board[5] == board[8] == mark) or\n",
    "            (board[3] == board[6] == board[9] == mark) or\n",
    "            (board[1] == board[5] == board[9] == mark) or\n",
    "            (board[3] == board[5] == board[7] == mark))\n",
    "    \n",
    "\n",
    "        \n",
    "    "
   ]
  },
  {
   "cell_type": "code",
   "execution_count": 11,
   "metadata": {},
   "outputs": [
    {
     "name": "stdout",
     "output_type": "stream",
     "text": [
      " | |X\n",
      "_|_|_\n",
      " | | \n",
      "_|_|_\n",
      " | | \n",
      " | | \n"
     ]
    },
    {
     "data": {
      "text/plain": [
       "False"
      ]
     },
     "execution_count": 11,
     "metadata": {},
     "output_type": "execute_result"
    }
   ],
   "source": [
    "display_board(input_board)\n",
    "win_check(input_board,'O')"
   ]
  },
  {
   "cell_type": "code",
   "execution_count": 12,
   "metadata": {},
   "outputs": [],
   "source": [
    "# write a function that randomly decides which player goes first\n",
    "import random\n",
    "def choose_first():\n",
    "    \n",
    "    flip = random.randint(0,1)\n",
    "    \n",
    "    if flip == 0:\n",
    "        return 'Player1'\n",
    "    else:\n",
    "        return 'Player2'\n",
    "    \n",
    "                \n",
    "    "
   ]
  },
  {
   "cell_type": "code",
   "execution_count": 13,
   "metadata": {},
   "outputs": [],
   "source": [
    "# write a function that check if the board has space\n",
    "def space_check(board,position):\n",
    "    \n",
    "    if board[position] == ' ':\n",
    "        return True\n",
    "    "
   ]
  },
  {
   "cell_type": "code",
   "execution_count": 14,
   "metadata": {},
   "outputs": [],
   "source": [
    "# write a function to check if the board position is full\n",
    "def full_board_check(board):\n",
    "    \n",
    "    for i in range(1,10):\n",
    "        if space_check(board,i):\n",
    "                return False\n",
    "# if board is full the function returns true        \n",
    "    return True\n",
    "    "
   ]
  },
  {
   "cell_type": "code",
   "execution_count": 24,
   "metadata": {},
   "outputs": [],
   "source": [
    "# write a function that asks for players next position and then use space_check function to check if the position is empty\n",
    "def player_choice(board):\n",
    "        \n",
    "        position  = 0\n",
    "        \n",
    "        while position not in [1,2,3,4,5,6,7,8,9] or not space_check(board,position):\n",
    "            position = int(input('choose position 1-9 ')) \n",
    "            \n",
    "            if position in [1,2,3,4,5,6,7,8,9]:\n",
    "                return position\n",
    "           \n",
    "    "
   ]
  },
  {
   "cell_type": "code",
   "execution_count": 25,
   "metadata": {},
   "outputs": [],
   "source": [
    "# write a function that asks the player if they want to play again\n",
    "def replay():\n",
    "    choice = input('Do you wanna play again Yes or NO: ')\n",
    "    \n",
    "    return choice ==  'Yes'"
   ]
  },
  {
   "cell_type": "code",
   "execution_count": 26,
   "metadata": {},
   "outputs": [
    {
     "name": "stdout",
     "output_type": "stream",
     "text": [
      "O|X|O\n",
      "_|_|_\n",
      "X|O|O\n",
      "_|_|_\n",
      "X|X|X\n",
      " | | \n",
      "Player 1 has won !!\n",
      "Do you wanna play again Yes or NO: NO\n"
     ]
    }
   ],
   "source": [
    "# final step , using while loops and functions you have made to run the game\n",
    "\n",
    "# while loop to keep running the game\n",
    "print('Welcome to Tic Tac Toe')\n",
    "\n",
    "while True:\n",
    "    \n",
    "    #play the game\n",
    "    #set everything up (board, whose-first, choose markers X, O)\n",
    "    the_board = [' ']*10\n",
    "    player1_marker,player2_marker = player_input()\n",
    "    whose_turn = choose_first()\n",
    "    \n",
    "    print(whose_turn+' will go first')\n",
    "    \n",
    "    #game play\n",
    "    game = input('you wanna play y or n: ')\n",
    "    game_on = True\n",
    "    \n",
    "    if game == 'y':\n",
    "        game_on == True\n",
    "    elif game == 'n':\n",
    "        game_on == False\n",
    "    \n",
    "    #player one turn\n",
    "    while game_on:\n",
    "        \n",
    "        if whose_turn == 'Player1':\n",
    "            \n",
    "                    \n",
    "        #display the board\n",
    "            display_board(the_board)\n",
    "        #choose_position\n",
    "            position = player_choice(the_board)\n",
    "        #place the marker\n",
    "            place_marker(the_board,player1_marker,position)\n",
    "        #decide if its a win or a tie         \n",
    "            if win_check(the_board,player1_marker):\n",
    "                display_board(the_board)\n",
    "                print('Player 1 has won !!')\n",
    "                game_on = False\n",
    "            else:\n",
    "                if full_board_check(the_board):\n",
    "                    display_board(the_board)\n",
    "                    print('Game is a Tie')\n",
    "                    game_on = False\n",
    "                else:\n",
    "                    whose_turn = 'Player2'\n",
    "        #finally if no tie or no win , next players turn\n",
    "        else:\n",
    "            whose_turn == 'Player2'\n",
    "                    \n",
    "        #display the board\n",
    "            display_board(the_board)\n",
    "        #choose_position\n",
    "            position = player_choice(the_board)\n",
    "        #place the marker\n",
    "            place_marker(the_board,player2_marker,position)\n",
    "        #decide if its a win or a tie         \n",
    "            if win_check(the_board,player2_marker):\n",
    "                display_board(the_board)\n",
    "                print('Player 2 has won !!')\n",
    "                game_on = False\n",
    "            else:\n",
    "                if full_board_check(the_board):\n",
    "                    display_board(the_board)\n",
    "                    print('Game is a Tie')\n",
    "                    game_on = False\n",
    "                else:\n",
    "                    whose_turn = 'Player1'\n",
    "            \n",
    "            \n",
    "    if not replay():\n",
    "        break\n",
    "    \n",
    "    # break out of the while loop on replay function\n"
   ]
  },
  {
   "cell_type": "code",
   "execution_count": null,
   "metadata": {},
   "outputs": [],
   "source": []
  }
 ],
 "metadata": {
  "kernelspec": {
   "display_name": "Python 3",
   "language": "python",
   "name": "python3"
  },
  "language_info": {
   "codemirror_mode": {
    "name": "ipython",
    "version": 3
   },
   "file_extension": ".py",
   "mimetype": "text/x-python",
   "name": "python",
   "nbconvert_exporter": "python",
   "pygments_lexer": "ipython3",
   "version": "3.6.4"
  }
 },
 "nbformat": 4,
 "nbformat_minor": 2
}
